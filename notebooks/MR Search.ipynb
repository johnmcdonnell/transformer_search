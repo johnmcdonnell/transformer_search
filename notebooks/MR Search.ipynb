{
 "cells": [
  {
   "cell_type": "markdown",
   "id": "9b34e16a",
   "metadata": {},
   "source": [
    "# Imports & Environment"
   ]
  },
  {
   "cell_type": "code",
   "execution_count": 30,
   "id": "700e91de",
   "metadata": {},
   "outputs": [],
   "source": [
    "import os\n",
    "import pandas as pd\n",
    "import numpy as np\n",
    "import torch\n",
    "import sentence_transformers\n",
    "import openai"
   ]
  },
  {
   "cell_type": "code",
   "execution_count": 31,
   "id": "9605e7a7",
   "metadata": {},
   "outputs": [],
   "source": [
    "def identify_tensor_device():\n",
    "    if torch.backends.mps.is_available():\n",
    "        device = \"mps\"\n",
    "    elif torch.cuda.is_available():\n",
    "        device = \"cuda\"\n",
    "    else:\n",
    "        device = \"cpu\"\n",
    "    return device\n"
   ]
  },
  {
   "cell_type": "code",
   "execution_count": 32,
   "id": "06e4ded7",
   "metadata": {},
   "outputs": [
    {
     "data": {
      "text/plain": [
       "'mps'"
      ]
     },
     "execution_count": 32,
     "metadata": {},
     "output_type": "execute_result"
    }
   ],
   "source": [
    "device = identify_tensor_device()\n",
    "device"
   ]
  },
  {
   "cell_type": "code",
   "execution_count": 128,
   "id": "70e798eb",
   "metadata": {},
   "outputs": [],
   "source": [
    "#model = sentence_transformers.SentenceTransformer('msmarco-distilbert-base-v4', device=device)\n",
    "#model = sentence_transformers.SentenceTransformer('msmarco-distilbert-base-v4', device=device)"
   ]
  },
  {
   "cell_type": "markdown",
   "id": "18ccbcc5",
   "metadata": {},
   "source": [
    "# Searching the corpus\n"
   ]
  },
  {
   "cell_type": "code",
   "execution_count": 7,
   "id": "42a21df8",
   "metadata": {},
   "outputs": [],
   "source": [
    "mr_archive = pd.read_csv('output/mr_archive.csv')"
   ]
  },
  {
   "cell_type": "code",
   "execution_count": 64,
   "id": "d5c0b0f8",
   "metadata": {},
   "outputs": [
    {
     "data": {
      "text/html": [
       "<div>\n",
       "<style scoped>\n",
       "    .dataframe tbody tr th:only-of-type {\n",
       "        vertical-align: middle;\n",
       "    }\n",
       "\n",
       "    .dataframe tbody tr th {\n",
       "        vertical-align: top;\n",
       "    }\n",
       "\n",
       "    .dataframe thead th {\n",
       "        text-align: right;\n",
       "    }\n",
       "</style>\n",
       "<table border=\"1\" class=\"dataframe\">\n",
       "  <thead>\n",
       "    <tr style=\"text-align: right;\">\n",
       "      <th></th>\n",
       "      <th>title</th>\n",
       "      <th>author</th>\n",
       "      <th>publish_date</th>\n",
       "      <th>content</th>\n",
       "      <th>outlinks</th>\n",
       "      <th>tags</th>\n",
       "      <th>link</th>\n",
       "      <th>local_path</th>\n",
       "    </tr>\n",
       "  </thead>\n",
       "  <tbody>\n",
       "    <tr>\n",
       "      <th>0</th>\n",
       "      <td>Self-punishment and incentives</td>\n",
       "      <td>Tyler Cowen</td>\n",
       "      <td>2013-03-30 07:03:53</td>\n",
       "      <td>\\n[LeBron] James told me that when he was work...</td>\n",
       "      <td>['http://www.grantland.com/story/_/id/9109245/...</td>\n",
       "      <td>[]</td>\n",
       "      <td>https://marginalrevolution.com/marginalrevolut...</td>\n",
       "      <td>/Users/jvm/Development/web_crawling/marginal_r...</td>\n",
       "    </tr>\n",
       "    <tr>\n",
       "      <th>1</th>\n",
       "      <td>Assorted links</td>\n",
       "      <td>Tyler Cowen</td>\n",
       "      <td>2013-03-30 13:21:30</td>\n",
       "      <td>\\n1. On nitrogen fertilizer.\\n2. Roberta Smith...</td>\n",
       "      <td>['http://www.inexactchange.org/blog/2013/03/28...</td>\n",
       "      <td>[]</td>\n",
       "      <td>https://marginalrevolution.com/marginalrevolut...</td>\n",
       "      <td>/Users/jvm/Development/web_crawling/marginal_r...</td>\n",
       "    </tr>\n",
       "    <tr>\n",
       "      <th>2</th>\n",
       "      <td>A Brilliant New Method of Price Discrimination...</td>\n",
       "      <td>Alex Tabarrok</td>\n",
       "      <td>2013-03-30 12:32:59</td>\n",
       "      <td>\\nTo maximize profit, airlines want to charge ...</td>\n",
       "      <td>['http://www.worthpublishers.com/catalog/stati...</td>\n",
       "      <td>[]</td>\n",
       "      <td>https://marginalrevolution.com/marginalrevolut...</td>\n",
       "      <td>/Users/jvm/Development/web_crawling/marginal_r...</td>\n",
       "    </tr>\n",
       "    <tr>\n",
       "      <th>3</th>\n",
       "      <td>*Simpler: The Future of Government*</td>\n",
       "      <td>Tyler Cowen</td>\n",
       "      <td>2013-03-31 18:52:19</td>\n",
       "      <td>\\nThat is from Cass Sunstein (always worth rea...</td>\n",
       "      <td>['https://www.amazon.com/Simpler-Government-Ca...</td>\n",
       "      <td>[]</td>\n",
       "      <td>https://marginalrevolution.com/marginalrevolut...</td>\n",
       "      <td>/Users/jvm/Development/web_crawling/marginal_r...</td>\n",
       "    </tr>\n",
       "    <tr>\n",
       "      <th>4</th>\n",
       "      <td>Assorted links</td>\n",
       "      <td>Tyler Cowen</td>\n",
       "      <td>2013-03-31 07:48:35</td>\n",
       "      <td>\\n1. Velocity maps.\\n2. Carmina Burana, sung b...</td>\n",
       "      <td>['http://www.fastcoexist.com/1681677/a-new-map...</td>\n",
       "      <td>[]</td>\n",
       "      <td>https://marginalrevolution.com/marginalrevolut...</td>\n",
       "      <td>/Users/jvm/Development/web_crawling/marginal_r...</td>\n",
       "    </tr>\n",
       "  </tbody>\n",
       "</table>\n",
       "</div>"
      ],
      "text/plain": [
       "                                               title         author  \\\n",
       "0                     Self-punishment and incentives    Tyler Cowen   \n",
       "1                                     Assorted links    Tyler Cowen   \n",
       "2  A Brilliant New Method of Price Discrimination...  Alex Tabarrok   \n",
       "3                *Simpler: The Future of Government*    Tyler Cowen   \n",
       "4                                     Assorted links    Tyler Cowen   \n",
       "\n",
       "          publish_date                                            content  \\\n",
       "0  2013-03-30 07:03:53  \\n[LeBron] James told me that when he was work...   \n",
       "1  2013-03-30 13:21:30  \\n1. On nitrogen fertilizer.\\n2. Roberta Smith...   \n",
       "2  2013-03-30 12:32:59  \\nTo maximize profit, airlines want to charge ...   \n",
       "3  2013-03-31 18:52:19  \\nThat is from Cass Sunstein (always worth rea...   \n",
       "4  2013-03-31 07:48:35  \\n1. Velocity maps.\\n2. Carmina Burana, sung b...   \n",
       "\n",
       "                                            outlinks tags  \\\n",
       "0  ['http://www.grantland.com/story/_/id/9109245/...   []   \n",
       "1  ['http://www.inexactchange.org/blog/2013/03/28...   []   \n",
       "2  ['http://www.worthpublishers.com/catalog/stati...   []   \n",
       "3  ['https://www.amazon.com/Simpler-Government-Ca...   []   \n",
       "4  ['http://www.fastcoexist.com/1681677/a-new-map...   []   \n",
       "\n",
       "                                                link  \\\n",
       "0  https://marginalrevolution.com/marginalrevolut...   \n",
       "1  https://marginalrevolution.com/marginalrevolut...   \n",
       "2  https://marginalrevolution.com/marginalrevolut...   \n",
       "3  https://marginalrevolution.com/marginalrevolut...   \n",
       "4  https://marginalrevolution.com/marginalrevolut...   \n",
       "\n",
       "                                          local_path  \n",
       "0  /Users/jvm/Development/web_crawling/marginal_r...  \n",
       "1  /Users/jvm/Development/web_crawling/marginal_r...  \n",
       "2  /Users/jvm/Development/web_crawling/marginal_r...  \n",
       "3  /Users/jvm/Development/web_crawling/marginal_r...  \n",
       "4  /Users/jvm/Development/web_crawling/marginal_r...  "
      ]
     },
     "execution_count": 64,
     "metadata": {},
     "output_type": "execute_result"
    }
   ],
   "source": [
    "mr_archive.head()"
   ]
  },
  {
   "cell_type": "code",
   "execution_count": 209,
   "id": "a39899fd",
   "metadata": {},
   "outputs": [],
   "source": [
    "#model = sentence_transformers.SentenceTransformer('multi-qa-mpnet-base-dot-v1', device=device)\n",
    "model = sentence_transformers.SentenceTransformer('all-MiniLM-L12-v2', device=device)\n"
   ]
  },
  {
   "cell_type": "code",
   "execution_count": 178,
   "id": "76fce3ff",
   "metadata": {},
   "outputs": [
    {
     "data": {
      "application/vnd.jupyter.widget-view+json": {
       "model_id": "243ddbfb62134837a181f362f5eb6505",
       "version_major": 2,
       "version_minor": 0
      },
      "text/plain": [
       "Batches:   0%|          | 0/1 [00:00<?, ?it/s]"
      ]
     },
     "metadata": {},
     "output_type": "display_data"
    },
    {
     "ename": "NotImplementedError",
     "evalue": "The operator 'aten::cumsum.out' is not current implemented for the MPS device. If you want this op to be added in priority during the prototype phase of this feature, please comment on https://github.com/pytorch/pytorch/issues/77764. As a temporary fix, you can set the environment variable `PYTORCH_ENABLE_MPS_FALLBACK=1` to use the CPU as a fallback for this op. WARNING: this will be slower than running natively on MPS.",
     "output_type": "error",
     "traceback": [
      "\u001b[0;31m---------------------------------------------------------------------------\u001b[0m",
      "\u001b[0;31mNotImplementedError\u001b[0m                       Traceback (most recent call last)",
      "Input \u001b[0;32mIn [178]\u001b[0m, in \u001b[0;36m<cell line: 1>\u001b[0;34m()\u001b[0m\n\u001b[0;32m----> 1\u001b[0m embedding_test_unbatched \u001b[38;5;241m=\u001b[39m \u001b[43mmodel\u001b[49m\u001b[38;5;241;43m.\u001b[39;49m\u001b[43mencode\u001b[49m\u001b[43m(\u001b[49m\u001b[38;5;124;43m'\u001b[39;49m\u001b[38;5;124;43malpha\u001b[39;49m\u001b[38;5;124;43m'\u001b[39;49m\u001b[43m,\u001b[49m\u001b[43m \u001b[49m\u001b[43mshow_progress_bar\u001b[49m\u001b[38;5;241;43m=\u001b[39;49m\u001b[38;5;28;43;01mTrue\u001b[39;49;00m\u001b[43m)\u001b[49m\n",
      "File \u001b[0;32m~/Development/transformer_search_exploration/transformer_search/lib/python3.9/site-packages/sentence_transformers/SentenceTransformer.py:165\u001b[0m, in \u001b[0;36mSentenceTransformer.encode\u001b[0;34m(self, sentences, batch_size, show_progress_bar, output_value, convert_to_numpy, convert_to_tensor, device, normalize_embeddings)\u001b[0m\n\u001b[1;32m    162\u001b[0m features \u001b[38;5;241m=\u001b[39m batch_to_device(features, device)\n\u001b[1;32m    164\u001b[0m \u001b[38;5;28;01mwith\u001b[39;00m torch\u001b[38;5;241m.\u001b[39mno_grad():\n\u001b[0;32m--> 165\u001b[0m     out_features \u001b[38;5;241m=\u001b[39m \u001b[38;5;28;43mself\u001b[39;49m\u001b[38;5;241;43m.\u001b[39;49m\u001b[43mforward\u001b[49m\u001b[43m(\u001b[49m\u001b[43mfeatures\u001b[49m\u001b[43m)\u001b[49m\n\u001b[1;32m    167\u001b[0m     \u001b[38;5;28;01mif\u001b[39;00m output_value \u001b[38;5;241m==\u001b[39m \u001b[38;5;124m'\u001b[39m\u001b[38;5;124mtoken_embeddings\u001b[39m\u001b[38;5;124m'\u001b[39m:\n\u001b[1;32m    168\u001b[0m         embeddings \u001b[38;5;241m=\u001b[39m []\n",
      "File \u001b[0;32m~/Development/transformer_search_exploration/transformer_search/lib/python3.9/site-packages/torch/nn/modules/container.py:139\u001b[0m, in \u001b[0;36mSequential.forward\u001b[0;34m(self, input)\u001b[0m\n\u001b[1;32m    137\u001b[0m \u001b[38;5;28;01mdef\u001b[39;00m \u001b[38;5;21mforward\u001b[39m(\u001b[38;5;28mself\u001b[39m, \u001b[38;5;28minput\u001b[39m):\n\u001b[1;32m    138\u001b[0m     \u001b[38;5;28;01mfor\u001b[39;00m module \u001b[38;5;129;01min\u001b[39;00m \u001b[38;5;28mself\u001b[39m:\n\u001b[0;32m--> 139\u001b[0m         \u001b[38;5;28minput\u001b[39m \u001b[38;5;241m=\u001b[39m \u001b[43mmodule\u001b[49m\u001b[43m(\u001b[49m\u001b[38;5;28;43minput\u001b[39;49m\u001b[43m)\u001b[49m\n\u001b[1;32m    140\u001b[0m     \u001b[38;5;28;01mreturn\u001b[39;00m \u001b[38;5;28minput\u001b[39m\n",
      "File \u001b[0;32m~/Development/transformer_search_exploration/transformer_search/lib/python3.9/site-packages/torch/nn/modules/module.py:1130\u001b[0m, in \u001b[0;36mModule._call_impl\u001b[0;34m(self, *input, **kwargs)\u001b[0m\n\u001b[1;32m   1126\u001b[0m \u001b[38;5;66;03m# If we don't have any hooks, we want to skip the rest of the logic in\u001b[39;00m\n\u001b[1;32m   1127\u001b[0m \u001b[38;5;66;03m# this function, and just call forward.\u001b[39;00m\n\u001b[1;32m   1128\u001b[0m \u001b[38;5;28;01mif\u001b[39;00m \u001b[38;5;129;01mnot\u001b[39;00m (\u001b[38;5;28mself\u001b[39m\u001b[38;5;241m.\u001b[39m_backward_hooks \u001b[38;5;129;01mor\u001b[39;00m \u001b[38;5;28mself\u001b[39m\u001b[38;5;241m.\u001b[39m_forward_hooks \u001b[38;5;129;01mor\u001b[39;00m \u001b[38;5;28mself\u001b[39m\u001b[38;5;241m.\u001b[39m_forward_pre_hooks \u001b[38;5;129;01mor\u001b[39;00m _global_backward_hooks\n\u001b[1;32m   1129\u001b[0m         \u001b[38;5;129;01mor\u001b[39;00m _global_forward_hooks \u001b[38;5;129;01mor\u001b[39;00m _global_forward_pre_hooks):\n\u001b[0;32m-> 1130\u001b[0m     \u001b[38;5;28;01mreturn\u001b[39;00m \u001b[43mforward_call\u001b[49m\u001b[43m(\u001b[49m\u001b[38;5;241;43m*\u001b[39;49m\u001b[38;5;28;43minput\u001b[39;49m\u001b[43m,\u001b[49m\u001b[43m \u001b[49m\u001b[38;5;241;43m*\u001b[39;49m\u001b[38;5;241;43m*\u001b[39;49m\u001b[43mkwargs\u001b[49m\u001b[43m)\u001b[49m\n\u001b[1;32m   1131\u001b[0m \u001b[38;5;66;03m# Do not call functions when jit is used\u001b[39;00m\n\u001b[1;32m   1132\u001b[0m full_backward_hooks, non_full_backward_hooks \u001b[38;5;241m=\u001b[39m [], []\n",
      "File \u001b[0;32m~/Development/transformer_search_exploration/transformer_search/lib/python3.9/site-packages/sentence_transformers/models/Transformer.py:66\u001b[0m, in \u001b[0;36mTransformer.forward\u001b[0;34m(self, features)\u001b[0m\n\u001b[1;32m     63\u001b[0m \u001b[38;5;28;01mif\u001b[39;00m \u001b[38;5;124m'\u001b[39m\u001b[38;5;124mtoken_type_ids\u001b[39m\u001b[38;5;124m'\u001b[39m \u001b[38;5;129;01min\u001b[39;00m features:\n\u001b[1;32m     64\u001b[0m     trans_features[\u001b[38;5;124m'\u001b[39m\u001b[38;5;124mtoken_type_ids\u001b[39m\u001b[38;5;124m'\u001b[39m] \u001b[38;5;241m=\u001b[39m features[\u001b[38;5;124m'\u001b[39m\u001b[38;5;124mtoken_type_ids\u001b[39m\u001b[38;5;124m'\u001b[39m]\n\u001b[0;32m---> 66\u001b[0m output_states \u001b[38;5;241m=\u001b[39m \u001b[38;5;28;43mself\u001b[39;49m\u001b[38;5;241;43m.\u001b[39;49m\u001b[43mauto_model\u001b[49m\u001b[43m(\u001b[49m\u001b[38;5;241;43m*\u001b[39;49m\u001b[38;5;241;43m*\u001b[39;49m\u001b[43mtrans_features\u001b[49m\u001b[43m,\u001b[49m\u001b[43m \u001b[49m\u001b[43mreturn_dict\u001b[49m\u001b[38;5;241;43m=\u001b[39;49m\u001b[38;5;28;43;01mFalse\u001b[39;49;00m\u001b[43m)\u001b[49m\n\u001b[1;32m     67\u001b[0m output_tokens \u001b[38;5;241m=\u001b[39m output_states[\u001b[38;5;241m0\u001b[39m]\n\u001b[1;32m     69\u001b[0m features\u001b[38;5;241m.\u001b[39mupdate({\u001b[38;5;124m'\u001b[39m\u001b[38;5;124mtoken_embeddings\u001b[39m\u001b[38;5;124m'\u001b[39m: output_tokens, \u001b[38;5;124m'\u001b[39m\u001b[38;5;124mattention_mask\u001b[39m\u001b[38;5;124m'\u001b[39m: features[\u001b[38;5;124m'\u001b[39m\u001b[38;5;124mattention_mask\u001b[39m\u001b[38;5;124m'\u001b[39m]})\n",
      "File \u001b[0;32m~/Development/transformer_search_exploration/transformer_search/lib/python3.9/site-packages/torch/nn/modules/module.py:1130\u001b[0m, in \u001b[0;36mModule._call_impl\u001b[0;34m(self, *input, **kwargs)\u001b[0m\n\u001b[1;32m   1126\u001b[0m \u001b[38;5;66;03m# If we don't have any hooks, we want to skip the rest of the logic in\u001b[39;00m\n\u001b[1;32m   1127\u001b[0m \u001b[38;5;66;03m# this function, and just call forward.\u001b[39;00m\n\u001b[1;32m   1128\u001b[0m \u001b[38;5;28;01mif\u001b[39;00m \u001b[38;5;129;01mnot\u001b[39;00m (\u001b[38;5;28mself\u001b[39m\u001b[38;5;241m.\u001b[39m_backward_hooks \u001b[38;5;129;01mor\u001b[39;00m \u001b[38;5;28mself\u001b[39m\u001b[38;5;241m.\u001b[39m_forward_hooks \u001b[38;5;129;01mor\u001b[39;00m \u001b[38;5;28mself\u001b[39m\u001b[38;5;241m.\u001b[39m_forward_pre_hooks \u001b[38;5;129;01mor\u001b[39;00m _global_backward_hooks\n\u001b[1;32m   1129\u001b[0m         \u001b[38;5;129;01mor\u001b[39;00m _global_forward_hooks \u001b[38;5;129;01mor\u001b[39;00m _global_forward_pre_hooks):\n\u001b[0;32m-> 1130\u001b[0m     \u001b[38;5;28;01mreturn\u001b[39;00m \u001b[43mforward_call\u001b[49m\u001b[43m(\u001b[49m\u001b[38;5;241;43m*\u001b[39;49m\u001b[38;5;28;43minput\u001b[39;49m\u001b[43m,\u001b[49m\u001b[43m \u001b[49m\u001b[38;5;241;43m*\u001b[39;49m\u001b[38;5;241;43m*\u001b[39;49m\u001b[43mkwargs\u001b[49m\u001b[43m)\u001b[49m\n\u001b[1;32m   1131\u001b[0m \u001b[38;5;66;03m# Do not call functions when jit is used\u001b[39;00m\n\u001b[1;32m   1132\u001b[0m full_backward_hooks, non_full_backward_hooks \u001b[38;5;241m=\u001b[39m [], []\n",
      "File \u001b[0;32m~/Development/transformer_search_exploration/transformer_search/lib/python3.9/site-packages/transformers/models/mpnet/modeling_mpnet.py:553\u001b[0m, in \u001b[0;36mMPNetModel.forward\u001b[0;34m(self, input_ids, attention_mask, position_ids, head_mask, inputs_embeds, output_attentions, output_hidden_states, return_dict, **kwargs)\u001b[0m\n\u001b[1;32m    550\u001b[0m extended_attention_mask: torch\u001b[38;5;241m.\u001b[39mTensor \u001b[38;5;241m=\u001b[39m \u001b[38;5;28mself\u001b[39m\u001b[38;5;241m.\u001b[39mget_extended_attention_mask(attention_mask, input_shape)\n\u001b[1;32m    552\u001b[0m head_mask \u001b[38;5;241m=\u001b[39m \u001b[38;5;28mself\u001b[39m\u001b[38;5;241m.\u001b[39mget_head_mask(head_mask, \u001b[38;5;28mself\u001b[39m\u001b[38;5;241m.\u001b[39mconfig\u001b[38;5;241m.\u001b[39mnum_hidden_layers)\n\u001b[0;32m--> 553\u001b[0m embedding_output \u001b[38;5;241m=\u001b[39m \u001b[38;5;28;43mself\u001b[39;49m\u001b[38;5;241;43m.\u001b[39;49m\u001b[43membeddings\u001b[49m\u001b[43m(\u001b[49m\u001b[43minput_ids\u001b[49m\u001b[38;5;241;43m=\u001b[39;49m\u001b[43minput_ids\u001b[49m\u001b[43m,\u001b[49m\u001b[43m \u001b[49m\u001b[43mposition_ids\u001b[49m\u001b[38;5;241;43m=\u001b[39;49m\u001b[43mposition_ids\u001b[49m\u001b[43m,\u001b[49m\u001b[43m \u001b[49m\u001b[43minputs_embeds\u001b[49m\u001b[38;5;241;43m=\u001b[39;49m\u001b[43minputs_embeds\u001b[49m\u001b[43m)\u001b[49m\n\u001b[1;32m    554\u001b[0m encoder_outputs \u001b[38;5;241m=\u001b[39m \u001b[38;5;28mself\u001b[39m\u001b[38;5;241m.\u001b[39mencoder(\n\u001b[1;32m    555\u001b[0m     embedding_output,\n\u001b[1;32m    556\u001b[0m     attention_mask\u001b[38;5;241m=\u001b[39mextended_attention_mask,\n\u001b[0;32m   (...)\u001b[0m\n\u001b[1;32m    560\u001b[0m     return_dict\u001b[38;5;241m=\u001b[39mreturn_dict,\n\u001b[1;32m    561\u001b[0m )\n\u001b[1;32m    562\u001b[0m sequence_output \u001b[38;5;241m=\u001b[39m encoder_outputs[\u001b[38;5;241m0\u001b[39m]\n",
      "File \u001b[0;32m~/Development/transformer_search_exploration/transformer_search/lib/python3.9/site-packages/torch/nn/modules/module.py:1130\u001b[0m, in \u001b[0;36mModule._call_impl\u001b[0;34m(self, *input, **kwargs)\u001b[0m\n\u001b[1;32m   1126\u001b[0m \u001b[38;5;66;03m# If we don't have any hooks, we want to skip the rest of the logic in\u001b[39;00m\n\u001b[1;32m   1127\u001b[0m \u001b[38;5;66;03m# this function, and just call forward.\u001b[39;00m\n\u001b[1;32m   1128\u001b[0m \u001b[38;5;28;01mif\u001b[39;00m \u001b[38;5;129;01mnot\u001b[39;00m (\u001b[38;5;28mself\u001b[39m\u001b[38;5;241m.\u001b[39m_backward_hooks \u001b[38;5;129;01mor\u001b[39;00m \u001b[38;5;28mself\u001b[39m\u001b[38;5;241m.\u001b[39m_forward_hooks \u001b[38;5;129;01mor\u001b[39;00m \u001b[38;5;28mself\u001b[39m\u001b[38;5;241m.\u001b[39m_forward_pre_hooks \u001b[38;5;129;01mor\u001b[39;00m _global_backward_hooks\n\u001b[1;32m   1129\u001b[0m         \u001b[38;5;129;01mor\u001b[39;00m _global_forward_hooks \u001b[38;5;129;01mor\u001b[39;00m _global_forward_pre_hooks):\n\u001b[0;32m-> 1130\u001b[0m     \u001b[38;5;28;01mreturn\u001b[39;00m \u001b[43mforward_call\u001b[49m\u001b[43m(\u001b[49m\u001b[38;5;241;43m*\u001b[39;49m\u001b[38;5;28;43minput\u001b[39;49m\u001b[43m,\u001b[49m\u001b[43m \u001b[49m\u001b[38;5;241;43m*\u001b[39;49m\u001b[38;5;241;43m*\u001b[39;49m\u001b[43mkwargs\u001b[49m\u001b[43m)\u001b[49m\n\u001b[1;32m   1131\u001b[0m \u001b[38;5;66;03m# Do not call functions when jit is used\u001b[39;00m\n\u001b[1;32m   1132\u001b[0m full_backward_hooks, non_full_backward_hooks \u001b[38;5;241m=\u001b[39m [], []\n",
      "File \u001b[0;32m~/Development/transformer_search_exploration/transformer_search/lib/python3.9/site-packages/transformers/models/mpnet/modeling_mpnet.py:92\u001b[0m, in \u001b[0;36mMPNetEmbeddings.forward\u001b[0;34m(self, input_ids, position_ids, inputs_embeds, **kwargs)\u001b[0m\n\u001b[1;32m     90\u001b[0m \u001b[38;5;28;01mif\u001b[39;00m position_ids \u001b[38;5;129;01mis\u001b[39;00m \u001b[38;5;28;01mNone\u001b[39;00m:\n\u001b[1;32m     91\u001b[0m     \u001b[38;5;28;01mif\u001b[39;00m input_ids \u001b[38;5;129;01mis\u001b[39;00m \u001b[38;5;129;01mnot\u001b[39;00m \u001b[38;5;28;01mNone\u001b[39;00m:\n\u001b[0;32m---> 92\u001b[0m         position_ids \u001b[38;5;241m=\u001b[39m \u001b[43mcreate_position_ids_from_input_ids\u001b[49m\u001b[43m(\u001b[49m\u001b[43minput_ids\u001b[49m\u001b[43m,\u001b[49m\u001b[43m \u001b[49m\u001b[38;5;28;43mself\u001b[39;49m\u001b[38;5;241;43m.\u001b[39;49m\u001b[43mpadding_idx\u001b[49m\u001b[43m)\u001b[49m\n\u001b[1;32m     93\u001b[0m     \u001b[38;5;28;01melse\u001b[39;00m:\n\u001b[1;32m     94\u001b[0m         position_ids \u001b[38;5;241m=\u001b[39m \u001b[38;5;28mself\u001b[39m\u001b[38;5;241m.\u001b[39mcreate_position_ids_from_inputs_embeds(inputs_embeds)\n",
      "File \u001b[0;32m~/Development/transformer_search_exploration/transformer_search/lib/python3.9/site-packages/transformers/models/mpnet/modeling_mpnet.py:1073\u001b[0m, in \u001b[0;36mcreate_position_ids_from_input_ids\u001b[0;34m(input_ids, padding_idx)\u001b[0m\n\u001b[1;32m   1071\u001b[0m \u001b[38;5;66;03m# The series of casts and type-conversions here are carefully balanced to both work with ONNX export and XLA.\u001b[39;00m\n\u001b[1;32m   1072\u001b[0m mask \u001b[38;5;241m=\u001b[39m input_ids\u001b[38;5;241m.\u001b[39mne(padding_idx)\u001b[38;5;241m.\u001b[39mint()\n\u001b[0;32m-> 1073\u001b[0m incremental_indices \u001b[38;5;241m=\u001b[39m \u001b[43mtorch\u001b[49m\u001b[38;5;241;43m.\u001b[39;49m\u001b[43mcumsum\u001b[49m\u001b[43m(\u001b[49m\u001b[43mmask\u001b[49m\u001b[43m,\u001b[49m\u001b[43m \u001b[49m\u001b[43mdim\u001b[49m\u001b[38;5;241;43m=\u001b[39;49m\u001b[38;5;241;43m1\u001b[39;49m\u001b[43m)\u001b[49m\u001b[38;5;241m.\u001b[39mtype_as(mask) \u001b[38;5;241m*\u001b[39m mask\n\u001b[1;32m   1074\u001b[0m \u001b[38;5;28;01mreturn\u001b[39;00m incremental_indices\u001b[38;5;241m.\u001b[39mlong() \u001b[38;5;241m+\u001b[39m padding_idx\n",
      "\u001b[0;31mNotImplementedError\u001b[0m: The operator 'aten::cumsum.out' is not current implemented for the MPS device. If you want this op to be added in priority during the prototype phase of this feature, please comment on https://github.com/pytorch/pytorch/issues/77764. As a temporary fix, you can set the environment variable `PYTORCH_ENABLE_MPS_FALLBACK=1` to use the CPU as a fallback for this op. WARNING: this will be slower than running natively on MPS."
     ]
    }
   ],
   "source": [
    "embedding_test_unbatched = model.encode('alpha', show_progress_bar=True)"
   ]
  },
  {
   "cell_type": "code",
   "execution_count": null,
   "id": "1c304597",
   "metadata": {},
   "outputs": [],
   "source": [
    "embedding_test_batched = model.encode(['alpha', 'square', 'anonymity'], show_progress_bar=True)"
   ]
  },
  {
   "cell_type": "code",
   "execution_count": 176,
   "id": "9f7aba04",
   "metadata": {},
   "outputs": [
    {
     "name": "stdout",
     "output_type": "stream",
     "text": [
      "Self-match: tensor([[0.9914]])\n",
      "Other-match: tensor([[0.1675]])\n",
      "Other-match: tensor([[0.1760]])\n"
     ]
    }
   ],
   "source": [
    "print('Self-match:', sentence_transformers.util.dot_score(embedding_test_unbatched, embedding_test_batched[0]))\n",
    "print('Other-match:', sentence_transformers.util.dot_score(embedding_test_unbatched, embedding_test_batched[1]))\n",
    "print('Other-match:', sentence_transformers.util.dot_score(embedding_test_unbatched, embedding_test_batched[2]))"
   ]
  },
  {
   "cell_type": "code",
   "execution_count": 105,
   "id": "d491ec9e",
   "metadata": {},
   "outputs": [],
   "source": [
    "corpus_embeddings = torch.tensor(torch.load('output/mr_embeddings.pt')).to(device)"
   ]
  },
  {
   "cell_type": "code",
   "execution_count": 106,
   "id": "2fc6489a",
   "metadata": {},
   "outputs": [
    {
     "name": "stdout",
     "output_type": "stream",
     "text": [
      "Title: Self-punishment and incentives\n",
      "    Tags: [, ]\n",
      "    Content: \n",
      "[LeBron] James told me that when he was working on his 3s, he’d punish himself until he met a lofty set of self-enforced shooting milestones.\n",
      "“It’s work,” James says. “It’s a lot of work. It’s being in workouts, and not accomplishing your goal, and paying for it. So, if I get to a spot in a workout and want to make eight out of 10, if I don’t make eight of 10, then I run. I push myself to the point of exhaustion until I make that goal. So you build up that mentality that you got to make that shot and then use that in a game situation — it’s the ultimate feeling, when you’re able to work on something and implement it.”\n",
      "Here is more, all of it focused on how LeBron James improved his game.\n",
      "\n"
     ]
    }
   ],
   "source": [
    "print(concatenate_title_text(mr_archive.iloc[test_index]))"
   ]
  },
  {
   "cell_type": "code",
   "execution_count": 100,
   "id": "4b5bc794",
   "metadata": {},
   "outputs": [
    {
     "data": {
      "text/plain": [
       "array([ 4.62842137e-01,  4.17626470e-01, -2.56969243e-01,  6.38134703e-02,\n",
       "        7.91084617e-02,  3.65754992e-01,  5.70676625e-01, -5.32728553e-01,\n",
       "       -3.22708815e-01,  8.84878188e-02,  2.23417342e-01,  6.02718532e-01,\n",
       "        5.37983030e-02, -1.25656009e-01,  1.65926144e-01, -2.63852686e-01,\n",
       "        5.65725803e-01, -1.90581173e-01,  4.99700397e-01, -6.15747154e-01,\n",
       "       -2.02796027e-01,  1.13386166e+00,  2.06236050e-01,  1.88513979e-01,\n",
       "       -3.05607796e-01, -3.37160438e-01,  2.45144531e-01, -1.97676182e-01,\n",
       "       -6.48346364e-01,  2.77979344e-01,  2.04377010e-01, -3.49896550e-01,\n",
       "        2.18025595e-01, -3.41442049e-01, -3.91747534e-01, -5.32011151e-01,\n",
       "        1.00993842e-01, -9.40842852e-02,  8.64315778e-02, -4.75268453e-01,\n",
       "        2.14811727e-01,  1.93131611e-01,  7.42075890e-02,  1.89245433e-01,\n",
       "        1.16290501e-03,  3.29866379e-01, -1.67530492e-01, -8.22877884e-02,\n",
       "        3.44126858e-02, -1.43611237e-01, -4.16159958e-01,  1.64211646e-01,\n",
       "       -5.71306884e-01, -1.95342049e-01, -8.69931281e-02,  4.28455025e-02,\n",
       "       -6.15586519e-01,  2.04662383e-01,  1.90967724e-01,  1.75390095e-01,\n",
       "        5.80072403e-01,  3.17634463e-01,  2.12858737e-01,  4.72204126e-02,\n",
       "       -2.45088190e-02,  1.77050754e-02,  4.63288486e-01, -2.74869174e-01,\n",
       "        2.73241103e-01,  5.57304084e-01, -4.25626189e-01, -6.16242051e-01,\n",
       "       -1.93140075e-01, -4.54434156e-01, -1.15004722e-02, -5.49165308e-01,\n",
       "        1.79838911e-01, -1.00516126e-01,  9.42570642e-02,  7.18230009e-02,\n",
       "        1.18743606e-01, -3.54346961e-01,  1.82606921e-01, -4.97622490e-01,\n",
       "       -1.54881120e-01,  4.76844348e-02,  3.44464600e-01,  1.37828335e-01,\n",
       "       -3.79737049e-01, -1.89948797e-01,  2.82644868e-01,  9.84671265e-02,\n",
       "       -2.92357087e-01, -1.34407610e-01, -2.64208972e-01, -9.41313207e-01,\n",
       "        4.95357588e-02,  9.87665132e-02,  4.37366426e-01,  1.50398046e-01,\n",
       "       -1.66746959e-01,  6.81592762e-01,  1.99019626e-01, -7.96685219e-01,\n",
       "       -3.62465262e-01, -5.20304628e-02,  4.36228722e-01, -5.69130123e-01,\n",
       "        8.18593919e-01, -1.17885172e+00,  1.95714727e-01,  8.19623396e-02,\n",
       "       -3.09483111e-01,  3.29706937e-01,  6.22079074e-01,  7.02352047e-01,\n",
       "       -3.67234111e-01,  6.56324685e-01, -3.47657442e-01, -1.14096843e-01,\n",
       "       -3.79260749e-01, -1.52179122e-01,  3.04681242e-01,  1.25785336e-01,\n",
       "       -2.44829863e-01, -1.23876758e-01,  1.93074524e-01, -2.64146119e-01,\n",
       "        1.49721310e-01, -3.16407621e-01, -1.04657717e-01,  5.58370352e-03,\n",
       "       -2.98312098e-01,  1.36570200e-01,  1.62278920e-01, -1.25825182e-01,\n",
       "        5.35083294e-01, -3.32185566e-01,  1.79167967e-02, -3.03475466e-02,\n",
       "       -6.55041456e-01, -5.02518177e-01, -4.14174289e-01, -8.26060995e-02,\n",
       "       -3.09761316e-01, -3.85777831e-01, -5.64376824e-02,  1.74995512e-01,\n",
       "       -6.93209609e-03,  4.10086364e-01, -3.40340026e-02,  1.09456897e-01,\n",
       "       -2.89360017e-01,  3.83135796e-01,  2.54051954e-01, -3.18405554e-02,\n",
       "        1.12563360e+00, -1.15767047e-01, -4.77343798e-01, -6.72722638e-01,\n",
       "       -2.03496173e-01,  2.42862925e-01,  2.19879985e-01,  4.81631368e-01,\n",
       "        5.50092518e-01, -5.90757467e-02,  2.31907129e-01, -5.04253089e-01,\n",
       "        2.75721341e-01, -7.25053906e-01,  7.31297508e-02, -6.39437914e-01,\n",
       "       -3.24641436e-01,  9.84720811e-02, -3.63126658e-02,  2.17058733e-01,\n",
       "        1.47004530e-01,  1.49659082e-01, -1.75684974e-01,  5.09640872e-01,\n",
       "        1.14833105e+00,  1.94441751e-01, -3.89256090e-01, -2.81370521e-01,\n",
       "       -4.93699282e-01,  1.12985363e-02, -2.71297187e-01, -1.82622354e-02,\n",
       "       -1.91470608e-01, -9.80028696e-03,  6.43549502e-01, -9.60559189e-01,\n",
       "       -1.12146340e-01,  1.43122122e-01,  6.44403398e-01,  6.87562585e-01,\n",
       "       -1.30193472e-01,  5.41162379e-02,  4.36202347e-01,  1.37948066e-01,\n",
       "        2.44615272e-01, -1.41884536e-01, -7.61260316e-02,  2.43159235e-01,\n",
       "       -3.95731598e-01,  6.34387195e-01, -7.58577764e-01,  3.27030808e-01,\n",
       "       -6.64114177e-01,  4.36193775e-03,  8.64955008e-01, -6.10085845e-01,\n",
       "       -1.74241915e-01, -2.16913775e-01, -2.54545897e-01, -1.16490632e-01,\n",
       "        1.09826058e-01,  4.09860492e-01,  1.74946278e-01, -2.92910039e-01,\n",
       "       -3.76410782e-01, -2.89224595e-01,  3.21946561e-01, -5.51381171e-01,\n",
       "       -3.54414135e-01, -3.54159564e-01,  2.01530203e-01, -5.00182481e-03,\n",
       "       -4.80062723e-01, -4.21244800e-01, -4.45855767e-01,  5.79282582e-01,\n",
       "       -3.37279215e-02,  9.76227298e-02, -5.39573245e-02,  3.86973649e-01,\n",
       "        1.02631107e-01,  1.15608096e-01, -8.72785151e-02, -2.09098503e-01,\n",
       "        1.72543168e-01, -1.39941186e-01, -6.96201265e-01,  7.68417143e-04,\n",
       "       -4.37816083e-01,  6.04401052e-01, -3.72306369e-02, -2.75435239e-01,\n",
       "        2.05039814e-01,  4.10547763e-01, -1.98851645e-01, -5.10988533e-01,\n",
       "       -3.38189721e-01,  1.02675803e-01,  1.85869887e-01,  3.82976383e-01,\n",
       "       -6.60620093e-01,  1.18048534e-01, -3.91363204e-02, -3.71733218e-01,\n",
       "       -5.19383729e-01, -2.28247702e-01, -2.76517093e-01,  9.92704779e-02,\n",
       "       -3.17863882e-01,  4.57020730e-01, -5.80365479e-01, -4.30722088e-01,\n",
       "       -3.44430536e-01,  8.10985029e-01,  5.19825995e-01, -7.70057380e-01,\n",
       "       -3.66916925e-01, -6.30250633e-01, -2.32392296e-01,  1.21514952e+00,\n",
       "        1.73691839e-01,  3.77012044e-02, -4.05755118e-02, -3.03520948e-01,\n",
       "       -4.58084553e-01,  5.14616311e-01,  2.35651150e-01, -4.44094926e-01,\n",
       "        9.75842416e-01, -7.77666390e-01,  3.58344734e-01, -1.12661764e-01,\n",
       "        3.08362931e-01,  5.23851335e-01,  4.79339957e-01,  3.36877018e-01,\n",
       "        1.79107741e-01,  2.36594841e-01,  6.09149396e-01,  2.03422025e-01,\n",
       "        5.80375493e-01,  2.23043069e-01,  1.77805975e-01, -3.02729011e-01,\n",
       "        2.79936176e-02, -7.92701468e-02, -3.06225508e-01, -7.33058572e-01,\n",
       "        1.14634037e+00, -1.71988532e-01, -7.35068917e-02,  2.96746105e-01,\n",
       "       -2.41740608e+00, -5.42905517e-02, -1.76683351e-01,  2.45778263e-01,\n",
       "       -3.33397120e-01,  8.76003206e-02,  3.21331918e-01, -1.68717772e-01,\n",
       "        4.75160956e-01,  9.53342617e-02,  4.48955953e-01, -2.79852599e-01,\n",
       "       -3.02011728e-01,  3.17505360e-01, -3.42761129e-01,  3.41040313e-01,\n",
       "        3.48799706e-01,  1.84395149e-01, -3.01308513e-01,  7.14521110e-02,\n",
       "       -3.55213493e-01,  3.57026428e-01, -4.18525040e-01, -2.55825132e-01,\n",
       "       -4.60676014e-01,  9.34797972e-02, -1.71048611e-01, -1.73618764e-01,\n",
       "       -9.08115432e-02,  3.41436684e-01, -2.34748796e-01,  2.92491078e-01,\n",
       "       -2.38904163e-01, -2.77147263e-01, -1.51363343e-01,  1.96237043e-02,\n",
       "        2.06525445e-01,  8.88924450e-02, -2.45775551e-01, -5.55822968e-01,\n",
       "        1.62808821e-01,  5.00268042e-01,  1.10324070e-01, -3.55023056e-01,\n",
       "       -1.68356404e-01, -1.73999444e-01, -5.06720662e-01,  1.06247999e-01,\n",
       "        1.31183460e-01, -4.37748611e-01,  1.43146336e-01, -1.49798602e-01,\n",
       "       -3.63855928e-01,  8.28606725e-01,  4.19561565e-01, -2.61531055e-01,\n",
       "        1.90951061e-02,  8.36490318e-02,  3.40143263e-01, -2.41833583e-01,\n",
       "       -5.87383032e-01, -3.10795069e-01,  1.76926509e-01,  1.29701272e-01,\n",
       "        4.12738591e-01,  1.45304397e-01,  5.95844865e-01,  8.57065499e-01,\n",
       "        2.35775173e-01, -3.63631070e-01,  3.63680452e-01, -4.51307982e-01,\n",
       "        6.85612440e-01, -4.56331372e-01, -1.18828744e-01,  3.44560087e-01,\n",
       "       -3.57083678e-01,  5.91653287e-02,  4.67831433e-01, -3.00135970e-01,\n",
       "       -1.37285963e-01,  4.96562183e-01,  1.90094471e-01,  2.46256329e-02,\n",
       "        5.70430160e-02,  3.40423435e-01,  3.03024560e-01,  5.00182688e-01,\n",
       "       -4.36999917e-01,  3.70885253e-01,  3.03124636e-01,  1.59566328e-01,\n",
       "       -5.03725074e-02,  7.58662447e-02, -9.79728177e-02,  3.82882774e-01,\n",
       "        1.82021707e-01, -3.01561445e-01,  2.00563744e-01, -5.32746196e-01,\n",
       "        5.65462410e-01,  2.99540579e-01, -1.92648739e-01,  4.30429906e-01,\n",
       "        6.90921366e-01, -3.95765543e-01, -3.03146213e-01,  2.24369749e-01,\n",
       "       -1.87570885e-01,  1.61301717e-01,  3.61800313e-01,  1.43888310e-01,\n",
       "       -4.77331907e-01,  1.89793363e-01,  7.43309021e-01,  3.43481481e-01,\n",
       "       -9.68631268e-01, -2.19760433e-01,  9.02353525e-02,  5.77117085e-01,\n",
       "        7.05999285e-02, -1.36199951e-01, -6.20747626e-01,  1.10455275e-01,\n",
       "       -8.91276240e-01,  8.02798569e-02,  7.18013048e-02, -6.86385706e-02,\n",
       "        4.46288697e-02, -1.96307555e-01,  1.47228673e-01, -1.70329913e-01,\n",
       "       -5.21757782e-01, -5.28115705e-02,  1.38448954e-01, -8.30945671e-01,\n",
       "        1.52990758e-01,  3.80750984e-01,  3.80114347e-01, -8.60101581e-01,\n",
       "       -6.59066319e-01,  5.45345187e-01,  1.02972710e+00, -2.84129828e-02,\n",
       "        1.55726656e-01,  3.69052440e-02, -6.14586808e-02,  7.43473396e-02,\n",
       "       -5.67781508e-01,  3.34469765e-01,  7.96893120e-01, -3.41931432e-01,\n",
       "        1.33893535e-01, -5.80739260e-01,  2.08353773e-02,  2.97966391e-01,\n",
       "       -1.61846802e-02,  6.15885913e-01,  2.87358761e-01,  6.15077019e-01,\n",
       "        8.18976521e-01,  3.93587768e-01, -3.75784457e-01,  1.65892169e-01,\n",
       "        1.82484180e-01, -2.00368956e-01, -5.10347009e-01,  4.69227880e-01,\n",
       "       -3.13848585e-01, -2.00763121e-01,  3.21064115e-01, -2.93143868e-01,\n",
       "       -5.88418424e-01, -7.42571279e-02,  5.87628126e-01, -6.56462908e-01,\n",
       "       -1.43720135e-01,  6.01507545e-01, -6.92165047e-02,  7.63053074e-02,\n",
       "       -5.13738990e-01,  1.35692000e-01,  3.22612435e-01, -1.13923661e-02,\n",
       "       -3.54982346e-01, -9.18649212e-02,  9.03298199e-01, -5.03211498e-01,\n",
       "       -4.95367765e-01,  3.02191287e-01, -1.53056532e-01,  4.80161328e-03,\n",
       "        2.20943809e-01,  3.58564347e-01,  1.29323592e-02,  5.36467910e-01,\n",
       "       -5.05423605e-01, -3.48111004e-01, -2.82515973e-01,  4.77968827e-02,\n",
       "       -2.60970265e-01, -1.90243453e-01, -1.03983894e-01,  7.02044666e-01,\n",
       "        4.03432608e-01, -4.57086384e-01,  2.79899657e-01, -6.80083513e-01,\n",
       "       -2.96014547e-01, -6.14225604e-02, -3.10400933e-01, -2.01033756e-01,\n",
       "        1.11584971e-02,  7.43243456e-01, -5.64987838e-01, -6.60357952e-01,\n",
       "        4.86964077e-01,  1.41285539e-01,  1.50563881e-01,  6.87761307e-01,\n",
       "        4.94616747e-01, -7.29240298e-01, -7.45125771e-01, -7.99388140e-02,\n",
       "        5.86704195e-01,  6.33410215e-01, -6.05200529e-01, -8.83128524e-01,\n",
       "        2.71152347e-01,  6.20037653e-02,  5.95828950e-01,  8.92541051e-01,\n",
       "        6.73757195e-01,  7.54130125e-01, -3.15276414e-01, -2.39667803e-01,\n",
       "        2.73801666e-02,  5.33633912e-03,  5.57340682e-01, -1.44205913e-02,\n",
       "       -8.50462317e-02,  5.97516000e-01,  1.18152142e-01, -2.98299968e-01,\n",
       "       -2.03690633e-01,  3.13996106e-01, -8.71078596e-02, -5.28024256e-01,\n",
       "       -1.57181680e-01,  4.78168994e-01,  2.17429876e-01,  6.98475763e-02,\n",
       "        5.78190565e-01,  7.04427138e-02,  3.83269548e-01,  2.76580721e-01,\n",
       "       -2.43361760e-03,  8.91892374e-01,  2.58306265e-01,  1.10573933e-01,\n",
       "        4.85573441e-01,  6.84138715e-01, -1.93991825e-01,  6.34220898e-01,\n",
       "       -3.33772451e-01,  3.46667051e-01, -2.20634967e-01,  2.46328890e-01,\n",
       "       -6.09565735e-01,  8.65682214e-02, -2.70929396e-01, -9.77824271e-01,\n",
       "       -9.10470635e-02,  4.42606747e-01,  3.02674770e-01, -6.88553900e-02,\n",
       "        2.99812466e-01,  7.77923286e-01,  3.60626519e-01,  4.58199948e-01,\n",
       "        6.69893324e-01,  2.80277312e-01, -3.97750380e-04, -2.48956755e-01,\n",
       "        3.72845121e-02,  5.07437050e-01,  5.81459165e-01, -8.96116272e-02,\n",
       "        4.55523282e-01, -5.64794719e-01, -4.50942099e-01, -7.62639821e-01,\n",
       "       -7.84797594e-03,  7.56587684e-02,  7.49568701e-01,  1.49171889e-01,\n",
       "        6.09785199e-01, -5.32527566e-01,  2.63583392e-01, -1.74584702e-01,\n",
       "       -2.97942758e-01, -7.36634493e-01, -6.56443059e-01, -4.75556612e-01,\n",
       "       -5.12933731e-01, -6.35787427e-01,  4.64037240e-01,  3.22928965e-01,\n",
       "        1.27882034e-01, -3.57050657e-01, -2.74385184e-01,  1.89361513e-01,\n",
       "       -5.96728921e-01, -8.80218148e-02,  1.90096989e-01,  2.36957539e-02,\n",
       "        9.84548271e-01, -1.94004446e-01, -1.83862388e-01,  2.07071647e-01,\n",
       "       -6.47929490e-01, -1.02901220e+00,  1.92550078e-01,  1.93251390e-02,\n",
       "        3.64944309e-01, -3.23980063e-01,  2.73979962e-01,  2.92737633e-01,\n",
       "        5.53543009e-02, -2.60706931e-01,  1.18581496e-01, -1.87532678e-01,\n",
       "       -4.40120250e-01,  4.10178065e-01, -2.91978061e-01, -1.93958253e-01,\n",
       "        2.44369611e-01, -4.47489023e-01, -7.86876492e-03,  8.67695287e-02,\n",
       "        8.87267664e-02, -2.84251839e-01, -2.04101831e-01,  5.30456938e-02,\n",
       "       -4.95141596e-01, -6.92644417e-01,  5.87698035e-02,  2.79104531e-01,\n",
       "       -9.15431917e-01,  8.87228251e-01, -6.40075445e-01,  3.65351737e-02,\n",
       "        4.38851267e-01, -6.17103934e-01,  1.74441487e-01, -1.27557948e-01,\n",
       "       -4.70943034e-01, -3.48022163e-01, -2.23034218e-01, -4.61189270e-01,\n",
       "        3.87720130e-02,  2.61174977e-01,  1.50517568e-01,  5.70057988e-01,\n",
       "       -2.50330083e-02,  3.66294712e-01,  4.19756800e-01,  3.22428197e-01,\n",
       "        2.13736534e-01, -2.72077471e-02,  4.42968220e-01, -2.58321851e-01,\n",
       "        8.71538818e-01, -1.66102961e-01, -1.20032087e-01, -2.98508555e-01,\n",
       "       -1.22454926e-01, -3.64150703e-02,  6.19197190e-01, -4.97758567e-01,\n",
       "        1.74388751e-01, -2.08701432e-01,  9.04555544e-02,  6.21732771e-01,\n",
       "       -1.02082059e-01,  3.77287835e-01, -1.85417399e-01,  5.64375162e-01,\n",
       "       -2.35497221e-01,  8.93135786e-01, -4.99125063e-01, -7.18826950e-01,\n",
       "       -6.56177461e-01,  4.48548049e-01, -2.96598583e-01, -2.66587138e-02,\n",
       "       -3.26016128e-01,  5.24971426e-01,  2.35920578e-01,  2.36647666e-01,\n",
       "       -1.20760009e-01,  4.00532782e-02,  6.42733574e-01,  3.28110844e-01,\n",
       "        3.81760836e-01,  1.40417472e-01, -2.54611045e-01,  1.21194080e-01,\n",
       "       -3.68997514e-01, -1.30219385e-01,  1.30858123e-01,  2.32452407e-01,\n",
       "        2.56961197e-01, -2.19626516e-01,  6.62218809e-01, -4.62628722e-01,\n",
       "       -1.21513769e-01,  3.45863968e-01,  3.58899474e-01, -1.80252969e-01,\n",
       "       -6.22054711e-02,  3.64650115e-02,  2.13039164e-02,  6.99190855e-01,\n",
       "        5.51559031e-02,  1.94810063e-01, -9.24614191e-01, -3.03585790e-02,\n",
       "       -4.18969095e-01,  1.12985715e-01, -1.45618528e-01, -3.23443085e-01,\n",
       "        1.19059093e-01, -9.55767259e-02,  3.56416315e-01, -1.08592167e-01,\n",
       "        1.62467480e-01, -3.36365730e-01,  6.46707118e-01, -8.97633731e-02,\n",
       "       -4.68054354e-01, -4.69464272e-01,  3.62158269e-01,  4.56648111e-01,\n",
       "       -1.82120883e+00,  1.53012186e-01,  1.55952767e-01, -1.06707729e-01,\n",
       "       -1.48887604e-01,  2.73280114e-01,  4.46938038e-01, -9.14032519e-01,\n",
       "       -5.18974543e-01,  7.14093268e-01, -1.65139943e-01,  2.13438109e-01,\n",
       "        2.35924602e-01,  2.24117711e-02,  3.31651926e-01, -6.92072287e-02],\n",
       "      dtype=float32)"
      ]
     },
     "execution_count": 100,
     "metadata": {},
     "output_type": "execute_result"
    }
   ],
   "source": [
    "model.encode(concatenate_title_text(mr_archive.iloc[test_index]))"
   ]
  },
  {
   "cell_type": "code",
   "execution_count": 107,
   "id": "0164b2f8",
   "metadata": {},
   "outputs": [
    {
     "data": {
      "text/plain": [
       "4.328331"
      ]
     },
     "execution_count": 107,
     "metadata": {},
     "output_type": "execute_result"
    }
   ],
   "source": [
    "# Sanity check test\n",
    "# This should be close to zero\n",
    "\n",
    "def concatenate_title_text(row):\n",
    "    return f'''Title: {row[\"title\"]}\n",
    "    Tags: {', '.join(row[\"tags\"])}\n",
    "    Content: {row[\"content\"]}'''\n",
    "\n",
    "test_index = 0\n",
    "np.sum(np.abs(model.encode(concatenate_title_text(mr_archive.iloc[test_index])) - corpus_embeddings[test_index].cpu().numpy()))\n"
   ]
  },
  {
   "cell_type": "code",
   "execution_count": 10,
   "id": "49194b34",
   "metadata": {},
   "outputs": [
    {
     "data": {
      "text/plain": [
       "(3974, 768)"
      ]
     },
     "execution_count": 10,
     "metadata": {},
     "output_type": "execute_result"
    }
   ],
   "source": [
    "corpus_embeddings.shape"
   ]
  },
  {
   "cell_type": "code",
   "execution_count": 11,
   "id": "62737d86",
   "metadata": {},
   "outputs": [],
   "source": [
    "query_embedding = model.encode('a', convert_to_tensor=True)"
   ]
  },
  {
   "cell_type": "code",
   "execution_count": 25,
   "id": "299a2234",
   "metadata": {},
   "outputs": [],
   "source": [
    "cos_scores = sentence_transformers.util.cos_sim(query_embedding, corpus_embeddings)[0]"
   ]
  },
  {
   "cell_type": "code",
   "execution_count": 108,
   "id": "d1eaae8a",
   "metadata": {},
   "outputs": [],
   "source": [
    "def search_mr_for_query(query):\n",
    "    query_embedding = model.encode(query, convert_to_tensor=True)\n",
    "\n",
    "    cos_scores = sentence_transformers.util.cos_sim(query_embedding, corpus_embeddings)[0]\n",
    "    top_results = torch.topk(cos_scores, k=5)\n",
    "    \n",
    "    return top_results"
   ]
  },
  {
   "cell_type": "markdown",
   "id": "4119bf10",
   "metadata": {},
   "source": [
    "### Reasonably good queries\n",
    "* Why did Brexit happen? (2nd hit is Why Brexit happened and what it means)\n",
    "* Should we believe in the recent reports about UFOs?\n",
    "* Does the minimum wage cause disemployment?\n",
    "\n",
    "### Bad-ish\n",
    "\n",
    "* What are the best Austrian novels?\n",
    "\n",
    "### Bad\n",
    "* Why did Europe diverge from the rest of the world?"
   ]
  },
  {
   "cell_type": "code",
   "execution_count": 38,
   "id": "11eb2a5c",
   "metadata": {},
   "outputs": [],
   "source": [
    "query = 'Does the minimum wage cause disemployment?'\n",
    "results = search_mr_for_query(query)"
   ]
  },
  {
   "cell_type": "code",
   "execution_count": 39,
   "id": "7a8be41c",
   "metadata": {},
   "outputs": [
    {
     "data": {
      "text/plain": [
       "torch.return_types.topk(\n",
       "values=tensor([0.5580, 0.5496, 0.5241, 0.5236, 0.5227], device='mps:0'),\n",
       "indices=tensor([3038,  572, 3275, 1983, 2657], device='mps:0'))"
      ]
     },
     "execution_count": 39,
     "metadata": {},
     "output_type": "execute_result"
    }
   ],
   "source": [
    "results"
   ]
  },
  {
   "cell_type": "code",
   "execution_count": 40,
   "id": "4cee0d06",
   "metadata": {},
   "outputs": [
    {
     "data": {
      "text/plain": [
       "3038"
      ]
     },
     "execution_count": 40,
     "metadata": {},
     "output_type": "execute_result"
    }
   ],
   "source": [
    "results.indices[0].item()"
   ]
  },
  {
   "cell_type": "code",
   "execution_count": 41,
   "id": "b29594e6",
   "metadata": {},
   "outputs": [
    {
     "name": "stdout",
     "output_type": "stream",
     "text": [
      "Result #1\n",
      "Score: 0.557997465133667\n",
      "Title: The Minimum Wage in an Online Job Market\n",
      "Author: Alex Tabarrok\n",
      "Date: 2018-07-31 07:27:33\n",
      "Content: \n",
      "John Horton has written a novel paper that uses an experiment and a policy change in an online job market to understand the effects of the minimum wage. The job market in question is something like the Upwork platform where firms can post jobs and workers from anywhere in the world can post offers to work at an hourly wage to do tasks such as computer programming, data entry, design and transcription. Typically workers are hired for a week or two.\n",
      "Horton was able to implement a minimum wage by simply not allowing a worker to offer to work at less than the minimum wage for a randomly chosen set of jobs.\n",
      "During the experimental period, firms posting an hourly job opening were immediately assigned to an experimental cell. The experiment consisted of four experimental cells: a control group with the platform status quo of no minimum wage, which received 75% of the sample (n = 121, 704), and three active treatment cells, which split the remaining 25% of the sample. A total of 159,656 job openings were assigned. Neither employers nor workers were told they were in an experiment. The active treatments had minimum wages of $2/hour in MW2 (n = 12, 442), $3/hour in MW3 (n = 12, 705), and $4/hour in MW4 (n = 12, 805). \n",
      "Horton found that the minimum wage did reduce hiring, especially in low-wage job categories when the minimum wage was high relative to the median wage. The hiring reduction was measurable but, consistent with previous research, not large. All the work on the platform, however, is logged through the software so Horton also has very good data on hours worked and here the story is quite different. The minimum wage substantially reduced hours worked.\n",
      "A higher minimum wage likely causes firms to scale back projects but that seems somewhat inconsistent with the small effect on hiring (fixed costs of hiring would suggest fewer hires and fewer hours but perhaps more hours per hire.) Horton finds another factor explains the reduction in hours worked. At a higher minimum wage, firms are careful to hire more productive workers. He finds that about half of the decline in hours can be explained by substitution towards higher productivity workers. Previous studies have found suggestive effects along these lines. For example, Giuliano 2013 found that the higher minimum wages could shift teenage employment to teenagers from more affluent regions who were likely more skilled and less likely to quit. Horton finds similar demographic effects as hiring shifts away from Bangladeshi workers and towards US workers but since his data on productivity is much cleaner than in previous studies there is less need to rely on demographic correlates of productivity.\n",
      "In part (it seems) due to the experiment, the job-platform later instituted a $3 per hour minimum wage for all jobs. Horton is thus able to supplement his experimental results with analysis of a policy change in the same environment. Consistent with the experimental result, the imposition of the minimum wage across the board caused substantial declines in hours worked with little effect on hiring overall but a big effect on the lowest-wage workers who found that their probability of being hired dropped substantially after the minimum wage was imposed.\n",
      "\n",
      "Link: https://marginalrevolution.com/marginalrevolution/2018/07/minimum-wage-online-job-market.html\n",
      "\n",
      "Result #2\n",
      "Score: 0.549605131149292\n",
      "Title: David Neumark and Peter Shirley on the minimum wage literature\n",
      "Author: Tyler Cowen\n",
      "Date: 2022-07-12 00:39:52\n",
      "Content: \n",
      "The effects on employment, of course:\n",
      "Our key conclusions are as follows: (i) there is a clear preponderance of negative estimates in the literature; (ii) this evidence is stronger for teens and young adults and the less educated; (iii) the evidence from studies of directly affected workers points even more strongly to negative employment effects; and (iv) the evidence from studies of low-wage industries is less one-sided.\n",
      "Here is the full paper, of course Twitter will try to tell you otherwise.\n",
      "\n",
      "Link: https://marginalrevolution.com/marginalrevolution/2022/07/david-neumark-and-peter-shirley-on-the-minimum-wage-literature.html\n",
      "\n",
      "Result #3\n",
      "Score: 0.5241183042526245\n",
      "Title: Scott Sumner on sticky wages for the unemployed\n",
      "Author: Tyler Cowen\n",
      "Date: 2011-08-16 16:32:14\n",
      "Content: \n",
      "Scott writes (and Alex seconds, and here is a Woolsey response):\n",
      "Nominal wages are fixed for the employed. NGDP falls 5%, and 5% of workers are laid off. Now the unemployed workers lower their wage demands by 20%. Why not by even more? Because of minimum wage laws, unemployment insurance, fear of loss of prestige, etc.\n",
      "Suppose companies are not worried about workers making invidious comparisons (a big if, but I’ll grant this point to my opponents.) In the best case scenario firms lay off 4% percent of their workers and hire back the 5% who are unemployed at the same total wage bill. The excess unemployment is now 4% instead of 5%. The total unemployment rate falls from 10% to 9% (assuming 5% is the natural rate.) No big deal, we are still deep in recession. Thus wage flexibility among the unemployed doesn’t really help very much. If all employed workers accepted a 5% pay cut (or if the government ordered such a cut) and the Fed kept targeting inflation, we’d experience rapid economic growth.\n",
      "Most of all, I praise Scott for being the only respondent, of many, to actually try and explain why nominal wages are sticky.\n",
      "As the argument is presented, I would respond: “There is talk of fixed NGDP and talk of a fixed total wage bill.  Both conditions are assuming away the possibility of an easy solution.  An unemployed worker shows up, he and the employer cut a deal, a job is created, monetary velocity goes up, NGDP goes up, and the Pareto improvement occurs.  To use a different terminology, velocity should be elastic with respect to available gains from trade and thus so is NGDP.  More concretely, referring to the current day, employers are sitting on plenty of cash.  There is nothing in the NGDP identities to prevent further hiring from that stash.”\n",
      "You can read Scott’s not-easy to-summarize counter-response to a comparable comment of mine here.  I do not interpret it as defending the relevance of nominal stickiness over the longer run or even as hoeing to the above passage.  For instance Scott writes “the actual change in NGDP is a sufficient statistic for understanding the net effect of wage flexibility on NGDP, PLUS monetary policy on NGDP.”  I believe Scott could have more accurately written”: “the actual change in NGDP is a sufficient statistic for understanding the net effect of labor market and other coordination breakdowns on NGDP, PLUS monetary policy on NGDP,” removing wage stickiness from the sentence altogether.  We’re back to viewing wage stickiness as one component of GDP problems, without knowing how important wage stickiness for the unemployed is, which is precisely where we started.\n",
      "\n",
      "Link: https://marginalrevolution.com/marginalrevolution/2011/08/scott-sumner-on-sticky-wages-for-the-unemployed.html\n",
      "\n",
      "Result #4\n",
      "Score: 0.5236055850982666\n",
      "Title: Sentences to ponder\n",
      "Author: Tyler Cowen\n",
      "Date: 2017-11-29 14:09:36\n",
      "Content: \n",
      "Policies, such as the minimum wage, that affect the cost of marketization, have a large [negative] effect on the fertility and labor supply of high income women.\n",
      "Here is the full research paper, which focuses on the flattening of the income-fertility curve, via a loyal MR reader.\n",
      "\n",
      "Link: https://marginalrevolution.com/marginalrevolution/2017/11/sentences-to-ponder-99.html\n",
      "\n",
      "Result #5\n",
      "Score: 0.5226771831512451\n",
      "Title: Further progress on the wage rigidity question\n",
      "Author: Tyler Cowen\n",
      "Date: 2021-08-30 11:44:27\n",
      "Content: \n",
      "From Benjamin Schoefer, bravo:\n",
      "\n",
      "\n",
      "I propose a financial channel of wage rigidity. In recessions, rather than propping up marginal (new hires’) costs of labor, rigid average wages squeeze cash flows, forcing firms to cut hiring due to financial constraints. Indeed, empirical cash flows and profits would turn acyclical if wages were only moderately more procyclical. I study this channel in a search and matching model with financial constraints and rigid wages among incumbent workers, while new hires’ wages are flexible. Individually, each feature generates no amplification. By contrast, their interaction can account for much of the empirical labor market fluctuations—breaking the neutrality of incumbents’ wages for hiring, and showing that financial amplification of business cycles requires wage rigidity.\n",
      "The piece is titled “The Financial Channel of Wage Rigidity.”  One of the best macro papers!  It puts all of the pieces together, including the finance channel, and the difference between incumbent and new workers, identifying the relevant counterfactuals, and is not content to simply say “wage rigidity.”\n",
      "Here is more on Schoefer, who as a sideline runs the Wirtschaftspolitik-Diskussionsrunde.  Here is his (entirely sober) Twitter account.\n",
      "\n",
      "\n",
      "\n",
      "Link: https://marginalrevolution.com/marginalrevolution/2021/08/further-progress-on-the-wage-rigidity-question.html\n",
      "\n"
     ]
    }
   ],
   "source": [
    "for i in range(len(results[0])):\n",
    "    print(f'Result #{i+1}')\n",
    "    print(f'Score: {results.values[i]}')\n",
    "    hit = mr_archive.iloc[results.indices[i].item()]\n",
    "    print(f'Title: {hit[\"title\"]}')\n",
    "    print(f'Author: {hit[\"author\"]}')\n",
    "    print(f'Date: {hit[\"publish_date\"]}')\n",
    "    print(f'Content: {hit[\"content\"]}')\n",
    "    print(f'Link: {hit[\"link\"]}')\n",
    "    print()\n",
    "    #result.indices[0]\n",
    "    #mr_archive.iloc[1939]"
   ]
  },
  {
   "cell_type": "code",
   "execution_count": 256,
   "id": "97339136",
   "metadata": {},
   "outputs": [],
   "source": [
    "from transformers import GPT2Tokenizer\n",
    "tokenizer = GPT2Tokenizer.from_pretrained(\"gpt2\")"
   ]
  },
  {
   "cell_type": "code",
   "execution_count": 257,
   "id": "eb38ecd4",
   "metadata": {},
   "outputs": [],
   "source": [
    "def get_gpt2_token_count(text):\n",
    "    return np.sum(tokenizer(text)['attention_mask'])"
   ]
  },
  {
   "cell_type": "code",
   "execution_count": 258,
   "id": "1c0390cf",
   "metadata": {},
   "outputs": [],
   "source": [
    "def encode_hit_for_gpt3(hit):\n",
    "    return f\"\"\"Title: {hit[\"title\"]}\n",
    "    Tags: {hit[\"tags\"]}\n",
    "    Content: {hit[\"content\"]}\n",
    "    \"\"\"\n",
    "def generate_query_for_gpt3(hits, query):\n",
    "    hits_encoded = [encode_hit_for_gpt3(hit) for hit in hits]\n",
    "    token_counts = [get_gpt2_token_count(hit) for hit in hits_encoded]\n",
    "    if np.sum(token_counts) > 3000:\n",
    "        assert False, f\"Probably too many tokens: {np.sum(token_counts)}\"\n",
    "    article_prompt = f\"\"\"A user queried: '{query}'\n",
    "    \n",
    "    Please read the following articles and attempt to answer the query.\n",
    "    \n",
    "    \"\"\"\n",
    "    for i, hit in enumerate(hits_encoded):\n",
    "        article_prompt += f\"\"\"\n",
    "        Article number {i+1}:\n",
    "        \n",
    "        {hit}\n",
    "        \"\"\"\n",
    "    \n",
    "    article_prompt += f\"\"\"Based on the above, in detail, how would you respond to the user's query, '{query}'\"\"\"\n",
    "    return article_prompt\n",
    "    "
   ]
  },
  {
   "cell_type": "code",
   "execution_count": null,
   "id": "f08cfc58",
   "metadata": {},
   "outputs": [],
   "source": []
  },
  {
   "cell_type": "code",
   "execution_count": 42,
   "id": "2c3a05b4",
   "metadata": {},
   "outputs": [],
   "source": [
    "hits = [mr_archive.iloc[ix.item()] for ix in results.indices]\n",
    "gpt3_prompt = generate_query_for_gpt3(hits, query)"
   ]
  },
  {
   "cell_type": "code",
   "execution_count": 43,
   "id": "532e1f8d",
   "metadata": {},
   "outputs": [
    {
     "data": {
      "text/plain": [
       "2080"
      ]
     },
     "execution_count": 43,
     "metadata": {},
     "output_type": "execute_result"
    }
   ],
   "source": [
    "get_gpt2_token_count(gpt3_prompt)"
   ]
  },
  {
   "cell_type": "code",
   "execution_count": 44,
   "id": "ceb7b9a1",
   "metadata": {},
   "outputs": [
    {
     "data": {
      "text/plain": [
       "\"A user queried: 'Does the minimum wage cause disemployment?'\\n    \\n    Please read the following articles and attempt to answer the query.\\n    \\n    \\n        Article number 1:\\n        \\n        Title: The Minimum Wage in an Online Job Market\\n    Tags: []\\n    Content: \\nJohn Horton has written a novel paper that uses an experiment and a policy change in an online job market to understand the effects of the minimum wage. The job market in question is something like the Upwork platform where firms can post jobs and workers from anywhere in the world can post offers to work at an hourly wage to do tasks such as computer programming, data entry, design and transcription. Typically workers are hired for a week or two.\\nHorton was able to implement a minimum wage by simply not allowing a worker to offer to work at less than the minimum wage for a randomly chosen set of jobs.\\nDuring the experimental period, firms posting an hourly job opening were immediately assigned to an experimental cell. The experiment consisted of four experimental cells: a control group with the platform status quo of no minimum wage, which received 75% of the sample (n = 121, 704), and three active treatment cells, which split the remaining 25% of the sample. A total of 159,656 job openings were assigned. Neither employers nor workers were told they were in an experiment. The active treatments had minimum wages of $2/hour in MW2 (n = 12, 442), $3/hour in MW3 (n = 12, 705), and $4/hour in MW4 (n = 12, 805). \\nHorton found that the minimum wage did reduce hiring, especially in low-wage job categories when the minimum wage was high relative to the median wage. The hiring reduction was measurable but, consistent with previous research, not large. All the work on the platform, however, is logged through the software so Horton also has very good data on hours worked and here the story is quite different. The minimum wage substantially reduced hours worked.\\nA higher minimum wage likely causes firms to scale back projects but that seems somewhat inconsistent with the small effect on hiring (fixed costs of hiring would suggest fewer hires and fewer hours but perhaps more hours per hire.) Horton finds another factor explains the reduction in hours worked. At a higher minimum wage, firms are careful to hire more productive workers. He finds that about half of the decline in hours can be explained by substitution towards higher productivity workers. Previous studies have found suggestive effects along these lines. For example, Giuliano 2013 found that the higher minimum wages could shift teenage employment to teenagers from more affluent regions who were likely more skilled and less likely to quit. Horton finds similar demographic effects as hiring shifts away from Bangladeshi workers and towards US workers but since his data on productivity is much cleaner than in previous studies there is less need to rely on demographic correlates of productivity.\\nIn part (it seems) due to the experiment, the job-platform later instituted a $3 per hour minimum wage for all jobs. Horton is thus able to supplement his experimental results with analysis of a policy change in the same environment. Consistent with the experimental result, the imposition of the minimum wage across the board caused substantial declines in hours worked with little effect on hiring overall but a big effect on the lowest-wage workers who found that their probability of being hired dropped substantially after the minimum wage was imposed.\\n\\n    \\n        \\n        Article number 2:\\n        \\n        Title: David Neumark and Peter Shirley on the minimum wage literature\\n    Tags: []\\n    Content: \\nThe effects on employment, of course:\\nOur key conclusions are as follows: (i) there is a clear preponderance of negative estimates in the literature; (ii) this evidence is stronger for teens and young adults and the less educated; (iii) the evidence from studies of directly affected workers points even more strongly to negative employment effects; and (iv) the evidence from studies of low-wage industries is less one-sided.\\nHere is the full paper, of course Twitter will try to tell you otherwise.\\n\\n    \\n        \\n        Article number 3:\\n        \\n        Title: Scott Sumner on sticky wages for the unemployed\\n    Tags: []\\n    Content: \\nScott writes (and Alex seconds, and here is a Woolsey response):\\nNominal wages are fixed for the employed. NGDP falls 5%, and 5% of workers are laid off. Now the unemployed workers lower their wage demands by 20%. Why not by even more? Because of minimum wage laws, unemployment insurance, fear of loss of prestige, etc.\\nSuppose companies are not worried about workers making invidious comparisons (a big if, but I’ll grant this point to my opponents.) In the best case scenario firms lay off 4% percent of their workers and hire back the 5% who are unemployed at the same total wage bill. The excess unemployment is now 4% instead of 5%. The total unemployment rate falls from 10% to 9% (assuming 5% is the natural rate.) No big deal, we are still deep in recession. Thus wage flexibility among the unemployed doesn’t really help very much. If all employed workers accepted a 5% pay cut (or if the government ordered such a cut) and the Fed kept targeting inflation, we’d experience rapid economic growth.\\nMost of all, I praise Scott for being the only respondent, of many, to actually try and explain why nominal wages are sticky.\\nAs the argument is presented, I would respond: “There is talk of fixed NGDP and talk of a fixed total wage bill.\\xa0 Both conditions are assuming away the possibility of an easy solution.\\xa0 An unemployed worker shows up, he and the employer cut a deal, a job is created, monetary velocity goes up, NGDP goes up, and the Pareto improvement occurs.\\xa0 To use a different terminology, velocity should be elastic with respect to available gains from trade and thus so is NGDP.\\xa0 More concretely, referring to the current day, employers are sitting on plenty of cash.\\xa0 There is nothing in the NGDP identities to prevent further hiring from that stash.”\\nYou can read Scott’s not-easy to-summarize counter-response to a comparable comment of mine here.\\xa0 I do not interpret it as defending the relevance of nominal stickiness over the longer run or even as hoeing to the above passage.\\xa0 For instance Scott writes “the actual change in NGDP is a sufficient statistic for understanding the net effect of wage flexibility on NGDP, PLUS monetary policy on NGDP.”\\xa0 I believe Scott could have more accurately written”: “the actual change in NGDP is a sufficient statistic for understanding the net effect of labor market and other coordination breakdowns on NGDP, PLUS monetary policy on NGDP,” removing wage stickiness from the sentence altogether.\\xa0 We’re back to viewing wage stickiness as one component of GDP problems, without knowing how important wage stickiness for the unemployed is, which is precisely where we started.\\n\\n    \\n        \\n        Article number 4:\\n        \\n        Title: Sentences to ponder\\n    Tags: []\\n    Content: \\nPolicies, such as the minimum wage, that affect the cost of marketization, have a large [negative] effect on the fertility and labor supply of high income women.\\nHere is the full research paper, which focuses on the flattening of the income-fertility curve, via a loyal MR reader.\\n\\n    \\n        \\n        Article number 5:\\n        \\n        Title: Further progress on the wage rigidity question\\n    Tags: []\\n    Content: \\nFrom Benjamin Schoefer, bravo:\\n\\n\\nI propose a financial channel of wage rigidity. In recessions, rather than propping up marginal (new hires’) costs of labor, rigid average wages squeeze cash flows, forcing firms to cut hiring due to financial constraints. Indeed, empirical cash flows and profits would turn acyclical if wages were only moderately more procyclical. I study this channel in a search and matching model with financial constraints and rigid wages among incumbent workers, while new hires’ wages are flexible. Individually, each feature generates no amplification. By contrast, their interaction can account for much of the empirical labor market fluctuations—breaking the neutrality of incumbents’ wages for hiring, and showing that financial amplification of business cycles requires wage rigidity.\\nThe piece is titled “The Financial Channel of Wage Rigidity.”\\xa0 One of the best macro papers!\\xa0 It puts all of the pieces together, including the finance channel, and the difference between incumbent and new workers, identifying the relevant counterfactuals, and is not content to simply say “wage rigidity.”\\nHere is more on Schoefer, who as a sideline runs the Wirtschaftspolitik-Diskussionsrunde.\\xa0 Here is his (entirely sober) Twitter account.\\n\\n\\n\\n    \\n        Based on the above, in detail, how would you respond to the user's query, 'Does the minimum wage cause disemployment?'\""
      ]
     },
     "execution_count": 44,
     "metadata": {},
     "output_type": "execute_result"
    }
   ],
   "source": [
    "gpt3_prompt"
   ]
  },
  {
   "cell_type": "code",
   "execution_count": 45,
   "id": "1ac1031e",
   "metadata": {},
   "outputs": [],
   "source": [
    "import openai\n",
    "openai.api_key = os.getenv(\"OPENAI_API_KEY\")\n"
   ]
  },
  {
   "cell_type": "code",
   "execution_count": 46,
   "id": "31f890bf",
   "metadata": {},
   "outputs": [],
   "source": [
    "response = openai.Completion.create(model=\"text-davinci-002\", prompt=gpt3_prompt, temperature=.5, max_tokens=200)\n"
   ]
  },
  {
   "cell_type": "code",
   "execution_count": 47,
   "id": "00a798e4",
   "metadata": {},
   "outputs": [
    {
     "data": {
      "text/plain": [
       "<OpenAIObject text_completion id=cmpl-5tjcfacOndoNNpqQGejTWsMPefnMP at 0x2a549ecc0> JSON: {\n",
       "  \"choices\": [\n",
       "    {\n",
       "      \"finish_reason\": \"stop\",\n",
       "      \"index\": 0,\n",
       "      \"logprobs\": null,\n",
       "      \"text\": \"\\n\\nThe answer to this query is not entirely clear. There is evidence that suggests that the minimum wage can cause disemployment, especially among low-wage workers and those who are less skilled or educated. However, there is also evidence that suggests that the minimum wage may not have a large effect on employment overall, and that it may actually lead to more productive workers being hired. Ultimately, more research is needed in order to determine the full extent of the minimum wage's impact on employment.\"\n",
       "    }\n",
       "  ],\n",
       "  \"created\": 1663965097,\n",
       "  \"id\": \"cmpl-5tjcfacOndoNNpqQGejTWsMPefnMP\",\n",
       "  \"model\": \"text-davinci-002\",\n",
       "  \"object\": \"text_completion\",\n",
       "  \"usage\": {\n",
       "    \"completion_tokens\": 98,\n",
       "    \"prompt_tokens\": 1905,\n",
       "    \"total_tokens\": 2003\n",
       "  }\n",
       "}"
      ]
     },
     "execution_count": 47,
     "metadata": {},
     "output_type": "execute_result"
    }
   ],
   "source": [
    "response"
   ]
  },
  {
   "cell_type": "code",
   "execution_count": null,
   "id": "0af98c62",
   "metadata": {},
   "outputs": [],
   "source": [
    ".002"
   ]
  }
 ],
 "metadata": {
  "kernelspec": {
   "display_name": "Python 3 (ipykernel)",
   "language": "python",
   "name": "python3"
  },
  "language_info": {
   "codemirror_mode": {
    "name": "ipython",
    "version": 3
   },
   "file_extension": ".py",
   "mimetype": "text/x-python",
   "name": "python",
   "nbconvert_exporter": "python",
   "pygments_lexer": "ipython3",
   "version": "3.9.13"
  }
 },
 "nbformat": 4,
 "nbformat_minor": 5
}
