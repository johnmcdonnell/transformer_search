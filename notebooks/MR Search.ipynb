{
 "cells": [
  {
   "cell_type": "markdown",
   "id": "9b34e16a",
   "metadata": {},
   "source": [
    "# Imports & Environment"
   ]
  },
  {
   "cell_type": "code",
   "execution_count": 2,
   "id": "700e91de",
   "metadata": {},
   "outputs": [],
   "source": [
    "import os\n",
    "import pandas as pd\n",
    "import numpy as np\n",
    "import torch\n",
    "import sentence_transformers\n",
    "import openai"
   ]
  },
  {
   "cell_type": "code",
   "execution_count": 3,
   "id": "9605e7a7",
   "metadata": {},
   "outputs": [],
   "source": [
    "def identify_tensor_device():\n",
    "    if torch.backends.mps.is_available():\n",
    "        device = \"mps\"\n",
    "    elif torch.cuda.is_available():\n",
    "        device = \"cuda\"\n",
    "    else:\n",
    "        device = \"cpu\"\n",
    "    return device\n"
   ]
  },
  {
   "cell_type": "code",
   "execution_count": 4,
   "id": "06e4ded7",
   "metadata": {},
   "outputs": [
    {
     "data": {
      "text/plain": [
       "'mps'"
      ]
     },
     "execution_count": 4,
     "metadata": {},
     "output_type": "execute_result"
    }
   ],
   "source": [
    "device = identify_tensor_device()\n",
    "device"
   ]
  },
  {
   "cell_type": "code",
   "execution_count": 128,
   "id": "70e798eb",
   "metadata": {},
   "outputs": [],
   "source": [
    "#model = sentence_transformers.SentenceTransformer('msmarco-distilbert-base-v4', device=device)\n",
    "#model = sentence_transformers.SentenceTransformer('msmarco-distilbert-base-v4', device=device)"
   ]
  },
  {
   "cell_type": "markdown",
   "id": "18ccbcc5",
   "metadata": {},
   "source": [
    "# Searching the corpus\n"
   ]
  },
  {
   "cell_type": "code",
   "execution_count": 5,
   "id": "42a21df8",
   "metadata": {},
   "outputs": [],
   "source": [
    "mr_archive = pd.read_csv('../output/mr_archive.csv')"
   ]
  },
  {
   "cell_type": "code",
   "execution_count": 6,
   "id": "d5c0b0f8",
   "metadata": {},
   "outputs": [
    {
     "data": {
      "text/html": [
       "<div>\n",
       "<style scoped>\n",
       "    .dataframe tbody tr th:only-of-type {\n",
       "        vertical-align: middle;\n",
       "    }\n",
       "\n",
       "    .dataframe tbody tr th {\n",
       "        vertical-align: top;\n",
       "    }\n",
       "\n",
       "    .dataframe thead th {\n",
       "        text-align: right;\n",
       "    }\n",
       "</style>\n",
       "<table border=\"1\" class=\"dataframe\">\n",
       "  <thead>\n",
       "    <tr style=\"text-align: right;\">\n",
       "      <th></th>\n",
       "      <th>title</th>\n",
       "      <th>author</th>\n",
       "      <th>publish_date</th>\n",
       "      <th>content</th>\n",
       "      <th>outlinks</th>\n",
       "      <th>tags</th>\n",
       "      <th>link</th>\n",
       "      <th>local_path</th>\n",
       "    </tr>\n",
       "  </thead>\n",
       "  <tbody>\n",
       "    <tr>\n",
       "      <th>0</th>\n",
       "      <td>Self-punishment and incentives</td>\n",
       "      <td>Tyler Cowen</td>\n",
       "      <td>2013-03-30 07:03:53</td>\n",
       "      <td>\\n[LeBron] James told me that when he was work...</td>\n",
       "      <td>['http://www.grantland.com/story/_/id/9109245/...</td>\n",
       "      <td>[]</td>\n",
       "      <td>https://marginalrevolution.com/marginalrevolut...</td>\n",
       "      <td>/Users/jvm/Development/web_crawling/marginal_r...</td>\n",
       "    </tr>\n",
       "    <tr>\n",
       "      <th>1</th>\n",
       "      <td>Assorted links</td>\n",
       "      <td>Tyler Cowen</td>\n",
       "      <td>2013-03-30 13:21:30</td>\n",
       "      <td>\\n1. On nitrogen fertilizer.\\n2. Roberta Smith...</td>\n",
       "      <td>['http://www.inexactchange.org/blog/2013/03/28...</td>\n",
       "      <td>[]</td>\n",
       "      <td>https://marginalrevolution.com/marginalrevolut...</td>\n",
       "      <td>/Users/jvm/Development/web_crawling/marginal_r...</td>\n",
       "    </tr>\n",
       "    <tr>\n",
       "      <th>2</th>\n",
       "      <td>A Brilliant New Method of Price Discrimination...</td>\n",
       "      <td>Alex Tabarrok</td>\n",
       "      <td>2013-03-30 12:32:59</td>\n",
       "      <td>\\nTo maximize profit, airlines want to charge ...</td>\n",
       "      <td>['http://www.worthpublishers.com/catalog/stati...</td>\n",
       "      <td>[]</td>\n",
       "      <td>https://marginalrevolution.com/marginalrevolut...</td>\n",
       "      <td>/Users/jvm/Development/web_crawling/marginal_r...</td>\n",
       "    </tr>\n",
       "    <tr>\n",
       "      <th>3</th>\n",
       "      <td>*Simpler: The Future of Government*</td>\n",
       "      <td>Tyler Cowen</td>\n",
       "      <td>2013-03-31 18:52:19</td>\n",
       "      <td>\\nThat is from Cass Sunstein (always worth rea...</td>\n",
       "      <td>['https://www.amazon.com/Simpler-Government-Ca...</td>\n",
       "      <td>[]</td>\n",
       "      <td>https://marginalrevolution.com/marginalrevolut...</td>\n",
       "      <td>/Users/jvm/Development/web_crawling/marginal_r...</td>\n",
       "    </tr>\n",
       "    <tr>\n",
       "      <th>4</th>\n",
       "      <td>Assorted links</td>\n",
       "      <td>Tyler Cowen</td>\n",
       "      <td>2013-03-31 07:48:35</td>\n",
       "      <td>\\n1. Velocity maps.\\n2. Carmina Burana, sung b...</td>\n",
       "      <td>['http://www.fastcoexist.com/1681677/a-new-map...</td>\n",
       "      <td>[]</td>\n",
       "      <td>https://marginalrevolution.com/marginalrevolut...</td>\n",
       "      <td>/Users/jvm/Development/web_crawling/marginal_r...</td>\n",
       "    </tr>\n",
       "  </tbody>\n",
       "</table>\n",
       "</div>"
      ],
      "text/plain": [
       "                                               title         author  \\\n",
       "0                     Self-punishment and incentives    Tyler Cowen   \n",
       "1                                     Assorted links    Tyler Cowen   \n",
       "2  A Brilliant New Method of Price Discrimination...  Alex Tabarrok   \n",
       "3                *Simpler: The Future of Government*    Tyler Cowen   \n",
       "4                                     Assorted links    Tyler Cowen   \n",
       "\n",
       "          publish_date                                            content  \\\n",
       "0  2013-03-30 07:03:53  \\n[LeBron] James told me that when he was work...   \n",
       "1  2013-03-30 13:21:30  \\n1. On nitrogen fertilizer.\\n2. Roberta Smith...   \n",
       "2  2013-03-30 12:32:59  \\nTo maximize profit, airlines want to charge ...   \n",
       "3  2013-03-31 18:52:19  \\nThat is from Cass Sunstein (always worth rea...   \n",
       "4  2013-03-31 07:48:35  \\n1. Velocity maps.\\n2. Carmina Burana, sung b...   \n",
       "\n",
       "                                            outlinks tags  \\\n",
       "0  ['http://www.grantland.com/story/_/id/9109245/...   []   \n",
       "1  ['http://www.inexactchange.org/blog/2013/03/28...   []   \n",
       "2  ['http://www.worthpublishers.com/catalog/stati...   []   \n",
       "3  ['https://www.amazon.com/Simpler-Government-Ca...   []   \n",
       "4  ['http://www.fastcoexist.com/1681677/a-new-map...   []   \n",
       "\n",
       "                                                link  \\\n",
       "0  https://marginalrevolution.com/marginalrevolut...   \n",
       "1  https://marginalrevolution.com/marginalrevolut...   \n",
       "2  https://marginalrevolution.com/marginalrevolut...   \n",
       "3  https://marginalrevolution.com/marginalrevolut...   \n",
       "4  https://marginalrevolution.com/marginalrevolut...   \n",
       "\n",
       "                                          local_path  \n",
       "0  /Users/jvm/Development/web_crawling/marginal_r...  \n",
       "1  /Users/jvm/Development/web_crawling/marginal_r...  \n",
       "2  /Users/jvm/Development/web_crawling/marginal_r...  \n",
       "3  /Users/jvm/Development/web_crawling/marginal_r...  \n",
       "4  /Users/jvm/Development/web_crawling/marginal_r...  "
      ]
     },
     "execution_count": 6,
     "metadata": {},
     "output_type": "execute_result"
    }
   ],
   "source": [
    "mr_archive.head()"
   ]
  },
  {
   "cell_type": "code",
   "execution_count": 7,
   "id": "a39899fd",
   "metadata": {},
   "outputs": [],
   "source": [
    "#model = sentence_transformers.SentenceTransformer('multi-qa-mpnet-base-dot-v1', device=device)\n",
    "model = sentence_transformers.SentenceTransformer('all-MiniLM-L12-v2', device=device)\n"
   ]
  },
  {
   "cell_type": "code",
   "execution_count": 8,
   "id": "76fce3ff",
   "metadata": {},
   "outputs": [
    {
     "data": {
      "application/vnd.jupyter.widget-view+json": {
       "model_id": "91c7eecbb3f943188720de7fb7913104",
       "version_major": 2,
       "version_minor": 0
      },
      "text/plain": [
       "Batches:   0%|          | 0/1 [00:00<?, ?it/s]"
      ]
     },
     "metadata": {},
     "output_type": "display_data"
    }
   ],
   "source": [
    "embedding_test_unbatched = model.encode('alpha', show_progress_bar=True)\n"
   ]
  },
  {
   "cell_type": "code",
   "execution_count": null,
   "id": "1c304597",
   "metadata": {},
   "outputs": [],
   "source": [
    "embedding_test_batched = model.encode(['alpha', 'square', 'anonymity'], show_progress_bar=True)\n"
   ]
  },
  {
   "cell_type": "code",
   "execution_count": 176,
   "id": "9f7aba04",
   "metadata": {},
   "outputs": [
    {
     "name": "stdout",
     "output_type": "stream",
     "text": [
      "Self-match: tensor([[0.9914]])\n",
      "Other-match: tensor([[0.1675]])\n",
      "Other-match: tensor([[0.1760]])\n"
     ]
    }
   ],
   "source": [
    "print('Self-match:', sentence_transformers.util.dot_score(embedding_test_unbatched, embedding_test_batched[0]))\n",
    "print('Other-match:', sentence_transformers.util.dot_score(embedding_test_unbatched, embedding_test_batched[1]))\n",
    "print('Other-match:', sentence_transformers.util.dot_score(embedding_test_unbatched, embedding_test_batched[2]))"
   ]
  },
  {
   "cell_type": "code",
   "execution_count": 11,
   "id": "d491ec9e",
   "metadata": {},
   "outputs": [],
   "source": [
    "corpus_embeddings = torch.tensor(torch.load('../output/mr_embeddings.pt')).to(device)"
   ]
  },
  {
   "cell_type": "code",
   "execution_count": 12,
   "id": "2fc6489a",
   "metadata": {},
   "outputs": [
    {
     "name": "stdout",
     "output_type": "stream",
     "text": [
      "Title: Self-punishment and incentives\n",
      "    Tags: [, ]\n",
      "    Content: \n",
      "[LeBron] James told me that when he was working on his 3s, he’d punish himself until he met a lofty set of self-enforced shooting milestones.\n",
      "“It’s work,” James says. “It’s a lot of work. It’s being in workouts, and not accomplishing your goal, and paying for it. So, if I get to a spot in a workout and want to make eight out of 10, if I don’t make eight of 10, then I run. I push myself to the point of exhaustion until I make that goal. So you build up that mentality that you got to make that shot and then use that in a game situation — it’s the ultimate feeling, when you’re able to work on something and implement it.”\n",
      "Here is more, all of it focused on how LeBron James improved his game.\n",
      "\n"
     ]
    }
   ],
   "source": [
    "print(concatenate_title_text(mr_archive.iloc[test_index]))"
   ]
  },
  {
   "cell_type": "code",
   "execution_count": 100,
   "id": "4b5bc794",
   "metadata": {},
   "outputs": [
    {
     "data": {
      "text/plain": [
       "array([ 4.62842137e-01,  4.17626470e-01, -2.56969243e-01,  6.38134703e-02,\n",
       "        7.91084617e-02,  3.65754992e-01,  5.70676625e-01, -5.32728553e-01,\n",
       "       -3.22708815e-01,  8.84878188e-02,  2.23417342e-01,  6.02718532e-01,\n",
       "        5.37983030e-02, -1.25656009e-01,  1.65926144e-01, -2.63852686e-01,\n",
       "        5.65725803e-01, -1.90581173e-01,  4.99700397e-01, -6.15747154e-01,\n",
       "       -2.02796027e-01,  1.13386166e+00,  2.06236050e-01,  1.88513979e-01,\n",
       "       -3.05607796e-01, -3.37160438e-01,  2.45144531e-01, -1.97676182e-01,\n",
       "       -6.48346364e-01,  2.77979344e-01,  2.04377010e-01, -3.49896550e-01,\n",
       "        2.18025595e-01, -3.41442049e-01, -3.91747534e-01, -5.32011151e-01,\n",
       "        1.00993842e-01, -9.40842852e-02,  8.64315778e-02, -4.75268453e-01,\n",
       "        2.14811727e-01,  1.93131611e-01,  7.42075890e-02,  1.89245433e-01,\n",
       "        1.16290501e-03,  3.29866379e-01, -1.67530492e-01, -8.22877884e-02,\n",
       "        3.44126858e-02, -1.43611237e-01, -4.16159958e-01,  1.64211646e-01,\n",
       "       -5.71306884e-01, -1.95342049e-01, -8.69931281e-02,  4.28455025e-02,\n",
       "       -6.15586519e-01,  2.04662383e-01,  1.90967724e-01,  1.75390095e-01,\n",
       "        5.80072403e-01,  3.17634463e-01,  2.12858737e-01,  4.72204126e-02,\n",
       "       -2.45088190e-02,  1.77050754e-02,  4.63288486e-01, -2.74869174e-01,\n",
       "        2.73241103e-01,  5.57304084e-01, -4.25626189e-01, -6.16242051e-01,\n",
       "       -1.93140075e-01, -4.54434156e-01, -1.15004722e-02, -5.49165308e-01,\n",
       "        1.79838911e-01, -1.00516126e-01,  9.42570642e-02,  7.18230009e-02,\n",
       "        1.18743606e-01, -3.54346961e-01,  1.82606921e-01, -4.97622490e-01,\n",
       "       -1.54881120e-01,  4.76844348e-02,  3.44464600e-01,  1.37828335e-01,\n",
       "       -3.79737049e-01, -1.89948797e-01,  2.82644868e-01,  9.84671265e-02,\n",
       "       -2.92357087e-01, -1.34407610e-01, -2.64208972e-01, -9.41313207e-01,\n",
       "        4.95357588e-02,  9.87665132e-02,  4.37366426e-01,  1.50398046e-01,\n",
       "       -1.66746959e-01,  6.81592762e-01,  1.99019626e-01, -7.96685219e-01,\n",
       "       -3.62465262e-01, -5.20304628e-02,  4.36228722e-01, -5.69130123e-01,\n",
       "        8.18593919e-01, -1.17885172e+00,  1.95714727e-01,  8.19623396e-02,\n",
       "       -3.09483111e-01,  3.29706937e-01,  6.22079074e-01,  7.02352047e-01,\n",
       "       -3.67234111e-01,  6.56324685e-01, -3.47657442e-01, -1.14096843e-01,\n",
       "       -3.79260749e-01, -1.52179122e-01,  3.04681242e-01,  1.25785336e-01,\n",
       "       -2.44829863e-01, -1.23876758e-01,  1.93074524e-01, -2.64146119e-01,\n",
       "        1.49721310e-01, -3.16407621e-01, -1.04657717e-01,  5.58370352e-03,\n",
       "       -2.98312098e-01,  1.36570200e-01,  1.62278920e-01, -1.25825182e-01,\n",
       "        5.35083294e-01, -3.32185566e-01,  1.79167967e-02, -3.03475466e-02,\n",
       "       -6.55041456e-01, -5.02518177e-01, -4.14174289e-01, -8.26060995e-02,\n",
       "       -3.09761316e-01, -3.85777831e-01, -5.64376824e-02,  1.74995512e-01,\n",
       "       -6.93209609e-03,  4.10086364e-01, -3.40340026e-02,  1.09456897e-01,\n",
       "       -2.89360017e-01,  3.83135796e-01,  2.54051954e-01, -3.18405554e-02,\n",
       "        1.12563360e+00, -1.15767047e-01, -4.77343798e-01, -6.72722638e-01,\n",
       "       -2.03496173e-01,  2.42862925e-01,  2.19879985e-01,  4.81631368e-01,\n",
       "        5.50092518e-01, -5.90757467e-02,  2.31907129e-01, -5.04253089e-01,\n",
       "        2.75721341e-01, -7.25053906e-01,  7.31297508e-02, -6.39437914e-01,\n",
       "       -3.24641436e-01,  9.84720811e-02, -3.63126658e-02,  2.17058733e-01,\n",
       "        1.47004530e-01,  1.49659082e-01, -1.75684974e-01,  5.09640872e-01,\n",
       "        1.14833105e+00,  1.94441751e-01, -3.89256090e-01, -2.81370521e-01,\n",
       "       -4.93699282e-01,  1.12985363e-02, -2.71297187e-01, -1.82622354e-02,\n",
       "       -1.91470608e-01, -9.80028696e-03,  6.43549502e-01, -9.60559189e-01,\n",
       "       -1.12146340e-01,  1.43122122e-01,  6.44403398e-01,  6.87562585e-01,\n",
       "       -1.30193472e-01,  5.41162379e-02,  4.36202347e-01,  1.37948066e-01,\n",
       "        2.44615272e-01, -1.41884536e-01, -7.61260316e-02,  2.43159235e-01,\n",
       "       -3.95731598e-01,  6.34387195e-01, -7.58577764e-01,  3.27030808e-01,\n",
       "       -6.64114177e-01,  4.36193775e-03,  8.64955008e-01, -6.10085845e-01,\n",
       "       -1.74241915e-01, -2.16913775e-01, -2.54545897e-01, -1.16490632e-01,\n",
       "        1.09826058e-01,  4.09860492e-01,  1.74946278e-01, -2.92910039e-01,\n",
       "       -3.76410782e-01, -2.89224595e-01,  3.21946561e-01, -5.51381171e-01,\n",
       "       -3.54414135e-01, -3.54159564e-01,  2.01530203e-01, -5.00182481e-03,\n",
       "       -4.80062723e-01, -4.21244800e-01, -4.45855767e-01,  5.79282582e-01,\n",
       "       -3.37279215e-02,  9.76227298e-02, -5.39573245e-02,  3.86973649e-01,\n",
       "        1.02631107e-01,  1.15608096e-01, -8.72785151e-02, -2.09098503e-01,\n",
       "        1.72543168e-01, -1.39941186e-01, -6.96201265e-01,  7.68417143e-04,\n",
       "       -4.37816083e-01,  6.04401052e-01, -3.72306369e-02, -2.75435239e-01,\n",
       "        2.05039814e-01,  4.10547763e-01, -1.98851645e-01, -5.10988533e-01,\n",
       "       -3.38189721e-01,  1.02675803e-01,  1.85869887e-01,  3.82976383e-01,\n",
       "       -6.60620093e-01,  1.18048534e-01, -3.91363204e-02, -3.71733218e-01,\n",
       "       -5.19383729e-01, -2.28247702e-01, -2.76517093e-01,  9.92704779e-02,\n",
       "       -3.17863882e-01,  4.57020730e-01, -5.80365479e-01, -4.30722088e-01,\n",
       "       -3.44430536e-01,  8.10985029e-01,  5.19825995e-01, -7.70057380e-01,\n",
       "       -3.66916925e-01, -6.30250633e-01, -2.32392296e-01,  1.21514952e+00,\n",
       "        1.73691839e-01,  3.77012044e-02, -4.05755118e-02, -3.03520948e-01,\n",
       "       -4.58084553e-01,  5.14616311e-01,  2.35651150e-01, -4.44094926e-01,\n",
       "        9.75842416e-01, -7.77666390e-01,  3.58344734e-01, -1.12661764e-01,\n",
       "        3.08362931e-01,  5.23851335e-01,  4.79339957e-01,  3.36877018e-01,\n",
       "        1.79107741e-01,  2.36594841e-01,  6.09149396e-01,  2.03422025e-01,\n",
       "        5.80375493e-01,  2.23043069e-01,  1.77805975e-01, -3.02729011e-01,\n",
       "        2.79936176e-02, -7.92701468e-02, -3.06225508e-01, -7.33058572e-01,\n",
       "        1.14634037e+00, -1.71988532e-01, -7.35068917e-02,  2.96746105e-01,\n",
       "       -2.41740608e+00, -5.42905517e-02, -1.76683351e-01,  2.45778263e-01,\n",
       "       -3.33397120e-01,  8.76003206e-02,  3.21331918e-01, -1.68717772e-01,\n",
       "        4.75160956e-01,  9.53342617e-02,  4.48955953e-01, -2.79852599e-01,\n",
       "       -3.02011728e-01,  3.17505360e-01, -3.42761129e-01,  3.41040313e-01,\n",
       "        3.48799706e-01,  1.84395149e-01, -3.01308513e-01,  7.14521110e-02,\n",
       "       -3.55213493e-01,  3.57026428e-01, -4.18525040e-01, -2.55825132e-01,\n",
       "       -4.60676014e-01,  9.34797972e-02, -1.71048611e-01, -1.73618764e-01,\n",
       "       -9.08115432e-02,  3.41436684e-01, -2.34748796e-01,  2.92491078e-01,\n",
       "       -2.38904163e-01, -2.77147263e-01, -1.51363343e-01,  1.96237043e-02,\n",
       "        2.06525445e-01,  8.88924450e-02, -2.45775551e-01, -5.55822968e-01,\n",
       "        1.62808821e-01,  5.00268042e-01,  1.10324070e-01, -3.55023056e-01,\n",
       "       -1.68356404e-01, -1.73999444e-01, -5.06720662e-01,  1.06247999e-01,\n",
       "        1.31183460e-01, -4.37748611e-01,  1.43146336e-01, -1.49798602e-01,\n",
       "       -3.63855928e-01,  8.28606725e-01,  4.19561565e-01, -2.61531055e-01,\n",
       "        1.90951061e-02,  8.36490318e-02,  3.40143263e-01, -2.41833583e-01,\n",
       "       -5.87383032e-01, -3.10795069e-01,  1.76926509e-01,  1.29701272e-01,\n",
       "        4.12738591e-01,  1.45304397e-01,  5.95844865e-01,  8.57065499e-01,\n",
       "        2.35775173e-01, -3.63631070e-01,  3.63680452e-01, -4.51307982e-01,\n",
       "        6.85612440e-01, -4.56331372e-01, -1.18828744e-01,  3.44560087e-01,\n",
       "       -3.57083678e-01,  5.91653287e-02,  4.67831433e-01, -3.00135970e-01,\n",
       "       -1.37285963e-01,  4.96562183e-01,  1.90094471e-01,  2.46256329e-02,\n",
       "        5.70430160e-02,  3.40423435e-01,  3.03024560e-01,  5.00182688e-01,\n",
       "       -4.36999917e-01,  3.70885253e-01,  3.03124636e-01,  1.59566328e-01,\n",
       "       -5.03725074e-02,  7.58662447e-02, -9.79728177e-02,  3.82882774e-01,\n",
       "        1.82021707e-01, -3.01561445e-01,  2.00563744e-01, -5.32746196e-01,\n",
       "        5.65462410e-01,  2.99540579e-01, -1.92648739e-01,  4.30429906e-01,\n",
       "        6.90921366e-01, -3.95765543e-01, -3.03146213e-01,  2.24369749e-01,\n",
       "       -1.87570885e-01,  1.61301717e-01,  3.61800313e-01,  1.43888310e-01,\n",
       "       -4.77331907e-01,  1.89793363e-01,  7.43309021e-01,  3.43481481e-01,\n",
       "       -9.68631268e-01, -2.19760433e-01,  9.02353525e-02,  5.77117085e-01,\n",
       "        7.05999285e-02, -1.36199951e-01, -6.20747626e-01,  1.10455275e-01,\n",
       "       -8.91276240e-01,  8.02798569e-02,  7.18013048e-02, -6.86385706e-02,\n",
       "        4.46288697e-02, -1.96307555e-01,  1.47228673e-01, -1.70329913e-01,\n",
       "       -5.21757782e-01, -5.28115705e-02,  1.38448954e-01, -8.30945671e-01,\n",
       "        1.52990758e-01,  3.80750984e-01,  3.80114347e-01, -8.60101581e-01,\n",
       "       -6.59066319e-01,  5.45345187e-01,  1.02972710e+00, -2.84129828e-02,\n",
       "        1.55726656e-01,  3.69052440e-02, -6.14586808e-02,  7.43473396e-02,\n",
       "       -5.67781508e-01,  3.34469765e-01,  7.96893120e-01, -3.41931432e-01,\n",
       "        1.33893535e-01, -5.80739260e-01,  2.08353773e-02,  2.97966391e-01,\n",
       "       -1.61846802e-02,  6.15885913e-01,  2.87358761e-01,  6.15077019e-01,\n",
       "        8.18976521e-01,  3.93587768e-01, -3.75784457e-01,  1.65892169e-01,\n",
       "        1.82484180e-01, -2.00368956e-01, -5.10347009e-01,  4.69227880e-01,\n",
       "       -3.13848585e-01, -2.00763121e-01,  3.21064115e-01, -2.93143868e-01,\n",
       "       -5.88418424e-01, -7.42571279e-02,  5.87628126e-01, -6.56462908e-01,\n",
       "       -1.43720135e-01,  6.01507545e-01, -6.92165047e-02,  7.63053074e-02,\n",
       "       -5.13738990e-01,  1.35692000e-01,  3.22612435e-01, -1.13923661e-02,\n",
       "       -3.54982346e-01, -9.18649212e-02,  9.03298199e-01, -5.03211498e-01,\n",
       "       -4.95367765e-01,  3.02191287e-01, -1.53056532e-01,  4.80161328e-03,\n",
       "        2.20943809e-01,  3.58564347e-01,  1.29323592e-02,  5.36467910e-01,\n",
       "       -5.05423605e-01, -3.48111004e-01, -2.82515973e-01,  4.77968827e-02,\n",
       "       -2.60970265e-01, -1.90243453e-01, -1.03983894e-01,  7.02044666e-01,\n",
       "        4.03432608e-01, -4.57086384e-01,  2.79899657e-01, -6.80083513e-01,\n",
       "       -2.96014547e-01, -6.14225604e-02, -3.10400933e-01, -2.01033756e-01,\n",
       "        1.11584971e-02,  7.43243456e-01, -5.64987838e-01, -6.60357952e-01,\n",
       "        4.86964077e-01,  1.41285539e-01,  1.50563881e-01,  6.87761307e-01,\n",
       "        4.94616747e-01, -7.29240298e-01, -7.45125771e-01, -7.99388140e-02,\n",
       "        5.86704195e-01,  6.33410215e-01, -6.05200529e-01, -8.83128524e-01,\n",
       "        2.71152347e-01,  6.20037653e-02,  5.95828950e-01,  8.92541051e-01,\n",
       "        6.73757195e-01,  7.54130125e-01, -3.15276414e-01, -2.39667803e-01,\n",
       "        2.73801666e-02,  5.33633912e-03,  5.57340682e-01, -1.44205913e-02,\n",
       "       -8.50462317e-02,  5.97516000e-01,  1.18152142e-01, -2.98299968e-01,\n",
       "       -2.03690633e-01,  3.13996106e-01, -8.71078596e-02, -5.28024256e-01,\n",
       "       -1.57181680e-01,  4.78168994e-01,  2.17429876e-01,  6.98475763e-02,\n",
       "        5.78190565e-01,  7.04427138e-02,  3.83269548e-01,  2.76580721e-01,\n",
       "       -2.43361760e-03,  8.91892374e-01,  2.58306265e-01,  1.10573933e-01,\n",
       "        4.85573441e-01,  6.84138715e-01, -1.93991825e-01,  6.34220898e-01,\n",
       "       -3.33772451e-01,  3.46667051e-01, -2.20634967e-01,  2.46328890e-01,\n",
       "       -6.09565735e-01,  8.65682214e-02, -2.70929396e-01, -9.77824271e-01,\n",
       "       -9.10470635e-02,  4.42606747e-01,  3.02674770e-01, -6.88553900e-02,\n",
       "        2.99812466e-01,  7.77923286e-01,  3.60626519e-01,  4.58199948e-01,\n",
       "        6.69893324e-01,  2.80277312e-01, -3.97750380e-04, -2.48956755e-01,\n",
       "        3.72845121e-02,  5.07437050e-01,  5.81459165e-01, -8.96116272e-02,\n",
       "        4.55523282e-01, -5.64794719e-01, -4.50942099e-01, -7.62639821e-01,\n",
       "       -7.84797594e-03,  7.56587684e-02,  7.49568701e-01,  1.49171889e-01,\n",
       "        6.09785199e-01, -5.32527566e-01,  2.63583392e-01, -1.74584702e-01,\n",
       "       -2.97942758e-01, -7.36634493e-01, -6.56443059e-01, -4.75556612e-01,\n",
       "       -5.12933731e-01, -6.35787427e-01,  4.64037240e-01,  3.22928965e-01,\n",
       "        1.27882034e-01, -3.57050657e-01, -2.74385184e-01,  1.89361513e-01,\n",
       "       -5.96728921e-01, -8.80218148e-02,  1.90096989e-01,  2.36957539e-02,\n",
       "        9.84548271e-01, -1.94004446e-01, -1.83862388e-01,  2.07071647e-01,\n",
       "       -6.47929490e-01, -1.02901220e+00,  1.92550078e-01,  1.93251390e-02,\n",
       "        3.64944309e-01, -3.23980063e-01,  2.73979962e-01,  2.92737633e-01,\n",
       "        5.53543009e-02, -2.60706931e-01,  1.18581496e-01, -1.87532678e-01,\n",
       "       -4.40120250e-01,  4.10178065e-01, -2.91978061e-01, -1.93958253e-01,\n",
       "        2.44369611e-01, -4.47489023e-01, -7.86876492e-03,  8.67695287e-02,\n",
       "        8.87267664e-02, -2.84251839e-01, -2.04101831e-01,  5.30456938e-02,\n",
       "       -4.95141596e-01, -6.92644417e-01,  5.87698035e-02,  2.79104531e-01,\n",
       "       -9.15431917e-01,  8.87228251e-01, -6.40075445e-01,  3.65351737e-02,\n",
       "        4.38851267e-01, -6.17103934e-01,  1.74441487e-01, -1.27557948e-01,\n",
       "       -4.70943034e-01, -3.48022163e-01, -2.23034218e-01, -4.61189270e-01,\n",
       "        3.87720130e-02,  2.61174977e-01,  1.50517568e-01,  5.70057988e-01,\n",
       "       -2.50330083e-02,  3.66294712e-01,  4.19756800e-01,  3.22428197e-01,\n",
       "        2.13736534e-01, -2.72077471e-02,  4.42968220e-01, -2.58321851e-01,\n",
       "        8.71538818e-01, -1.66102961e-01, -1.20032087e-01, -2.98508555e-01,\n",
       "       -1.22454926e-01, -3.64150703e-02,  6.19197190e-01, -4.97758567e-01,\n",
       "        1.74388751e-01, -2.08701432e-01,  9.04555544e-02,  6.21732771e-01,\n",
       "       -1.02082059e-01,  3.77287835e-01, -1.85417399e-01,  5.64375162e-01,\n",
       "       -2.35497221e-01,  8.93135786e-01, -4.99125063e-01, -7.18826950e-01,\n",
       "       -6.56177461e-01,  4.48548049e-01, -2.96598583e-01, -2.66587138e-02,\n",
       "       -3.26016128e-01,  5.24971426e-01,  2.35920578e-01,  2.36647666e-01,\n",
       "       -1.20760009e-01,  4.00532782e-02,  6.42733574e-01,  3.28110844e-01,\n",
       "        3.81760836e-01,  1.40417472e-01, -2.54611045e-01,  1.21194080e-01,\n",
       "       -3.68997514e-01, -1.30219385e-01,  1.30858123e-01,  2.32452407e-01,\n",
       "        2.56961197e-01, -2.19626516e-01,  6.62218809e-01, -4.62628722e-01,\n",
       "       -1.21513769e-01,  3.45863968e-01,  3.58899474e-01, -1.80252969e-01,\n",
       "       -6.22054711e-02,  3.64650115e-02,  2.13039164e-02,  6.99190855e-01,\n",
       "        5.51559031e-02,  1.94810063e-01, -9.24614191e-01, -3.03585790e-02,\n",
       "       -4.18969095e-01,  1.12985715e-01, -1.45618528e-01, -3.23443085e-01,\n",
       "        1.19059093e-01, -9.55767259e-02,  3.56416315e-01, -1.08592167e-01,\n",
       "        1.62467480e-01, -3.36365730e-01,  6.46707118e-01, -8.97633731e-02,\n",
       "       -4.68054354e-01, -4.69464272e-01,  3.62158269e-01,  4.56648111e-01,\n",
       "       -1.82120883e+00,  1.53012186e-01,  1.55952767e-01, -1.06707729e-01,\n",
       "       -1.48887604e-01,  2.73280114e-01,  4.46938038e-01, -9.14032519e-01,\n",
       "       -5.18974543e-01,  7.14093268e-01, -1.65139943e-01,  2.13438109e-01,\n",
       "        2.35924602e-01,  2.24117711e-02,  3.31651926e-01, -6.92072287e-02],\n",
       "      dtype=float32)"
      ]
     },
     "execution_count": 100,
     "metadata": {},
     "output_type": "execute_result"
    }
   ],
   "source": [
    "model.encode(concatenate_title_text(mr_archive.iloc[test_index]))"
   ]
  },
  {
   "cell_type": "code",
   "execution_count": 13,
   "id": "0164b2f8",
   "metadata": {},
   "outputs": [
    {
     "data": {
      "text/plain": [
       "0.0"
      ]
     },
     "execution_count": 13,
     "metadata": {},
     "output_type": "execute_result"
    }
   ],
   "source": [
    "# Sanity check test\n",
    "# This should be close to zero\n",
    "\n",
    "def concatenate_title_text(row):\n",
    "    return f'''Title: {row[\"title\"]}\n",
    "    Tags: {', '.join(row[\"tags\"])}\n",
    "    Content: {row[\"content\"]}'''\n",
    "\n",
    "test_index = 0\n",
    "np.sum(np.abs(model.encode(concatenate_title_text(mr_archive.iloc[test_index])) - corpus_embeddings[test_index].cpu().numpy()))\n"
   ]
  },
  {
   "cell_type": "code",
   "execution_count": 10,
   "id": "49194b34",
   "metadata": {},
   "outputs": [
    {
     "data": {
      "text/plain": [
       "(3974, 768)"
      ]
     },
     "execution_count": 10,
     "metadata": {},
     "output_type": "execute_result"
    }
   ],
   "source": [
    "corpus_embeddings.shape"
   ]
  },
  {
   "cell_type": "code",
   "execution_count": 11,
   "id": "62737d86",
   "metadata": {},
   "outputs": [],
   "source": [
    "query_embedding = model.encode('a', convert_to_tensor=True)"
   ]
  },
  {
   "cell_type": "code",
   "execution_count": 25,
   "id": "299a2234",
   "metadata": {},
   "outputs": [],
   "source": [
    "cos_scores = sentence_transformers.util.cos_sim(query_embedding, corpus_embeddings)[0]"
   ]
  },
  {
   "cell_type": "code",
   "execution_count": 14,
   "id": "d1eaae8a",
   "metadata": {},
   "outputs": [],
   "source": [
    "def search_mr_for_query(query):\n",
    "    query_embedding = model.encode(query, convert_to_tensor=True)\n",
    "\n",
    "    cos_scores = sentence_transformers.util.cos_sim(query_embedding, corpus_embeddings)[0]\n",
    "    top_results = torch.topk(cos_scores, k=5)\n",
    "    \n",
    "    return top_results"
   ]
  },
  {
   "cell_type": "markdown",
   "id": "4119bf10",
   "metadata": {},
   "source": [
    "### Reasonably good queries\n",
    "* Why did Brexit happen? (2nd hit is Why Brexit happened and what it means)\n",
    "* Should we believe in the recent reports about UFOs?\n",
    "* Does the minimum wage cause disemployment?\n",
    "\n",
    "### Bad-ish\n",
    "\n",
    "* What are the best Austrian novels?\n",
    "\n",
    "### Bad\n",
    "* Why did Europe diverge from the rest of the world?"
   ]
  },
  {
   "cell_type": "code",
   "execution_count": 15,
   "id": "11eb2a5c",
   "metadata": {},
   "outputs": [],
   "source": [
    "query = 'Russian beliefs about Ukraine'\n",
    "results = search_mr_for_query(query)"
   ]
  },
  {
   "cell_type": "code",
   "execution_count": 16,
   "id": "7a8be41c",
   "metadata": {
    "scrolled": true
   },
   "outputs": [
    {
     "name": "stderr",
     "output_type": "stream",
     "text": [
      "/Users/jvm/Development/transformer_search_exploration/transformer_search/lib/python3.9/site-packages/torch/_tensor_str.py:103: UserWarning: The operator 'aten::bitwise_and.Tensor_out' is not currently supported on the MPS backend and will fall back to run on the CPU. This may have performance implications. (Triggered internally at  /Users/runner/work/pytorch/pytorch/pytorch/aten/src/ATen/mps/MPSFallback.mm:11.)\n",
      "  nonzero_finite_vals = torch.masked_select(tensor_view, torch.isfinite(tensor_view) & tensor_view.ne(0))\n"
     ]
    },
    {
     "data": {
      "text/plain": [
       "torch.return_types.topk(\n",
       "values=tensor([0.6849, 0.6422, 0.5945, 0.5474, 0.5137], device='mps:0'),\n",
       "indices=tensor([471, 486, 520, 430, 423], device='mps:0'))"
      ]
     },
     "execution_count": 16,
     "metadata": {},
     "output_type": "execute_result"
    }
   ],
   "source": [
    "results"
   ]
  },
  {
   "cell_type": "code",
   "execution_count": 17,
   "id": "4cee0d06",
   "metadata": {},
   "outputs": [
    {
     "data": {
      "text/plain": [
       "471"
      ]
     },
     "execution_count": 17,
     "metadata": {},
     "output_type": "execute_result"
    }
   ],
   "source": [
    "results.indices[0].item()"
   ]
  },
  {
   "cell_type": "code",
   "execution_count": 18,
   "id": "b29594e6",
   "metadata": {},
   "outputs": [
    {
     "name": "stdout",
     "output_type": "stream",
     "text": [
      "Result #1\n",
      "Score: 0.6849457025527954\n",
      "Title: It isn’t just Putin — Russia vs. Ukraine\n",
      "Author: Tyler Cowen\n",
      "Date: 2022-04-18 13:57:55\n",
      "Content: \n",
      "From Wikipedia, here is a description of the views of Nobel Laureate Joseph Brodsky on Ukraine:\n",
      "According to many historians, despite the fact that Brodsky had anti-Soviet views, for which he was eventually forced to leave Soviet Russia and emigrate to the United States, he, with all that, had pronounced Russian-imperial views, which resulted in his rejection of the existence of Ukrainians as a nation separate from Russians. According to Russian literary critic and biographer and friend of Brodsky Lev Losev, Brodsky considered Ukraine “the only cultural space with Great Russia”, and the Polish historian Irena Grudzinska-Gross [pl] in her book “Milosz and Brodsky” (2007) Brodsky firmly believed that Ukraine and has always been “an integral part of Great Russia”. According to Grudzinskaya-Gross, “Brodsky’s Russian patriotism is also evidenced by … the poem “The People” and another poem “On the Independence of Ukraine”, attacking Ukraine from imperial and Great Russian positions.”\n",
      "In 1985, even before writing the scandalous Ukrainian-phobic poem “On the Independence of Ukraine“, he entered into a debate with the Czech-French poet Milan Kundera, in which he showed his Russian-imperial views.\n",
      "The most famous public manifestation of Brodsky’s Ukrainophobia was the poem “On the Independence of Ukraine”, written, tentatively, in 1992. In this poem, Brodsky sarcastically described Ukraine’s independence in 1991 and scolded Ukrainian independence fighters for abandoning the Russian language. Brodsky did not publish this poem in any of his lifetime collections, and, until his death in 1996, he managed to read only a few times at various Muscovite and Judeophile meetings in America. In particular, there is documentary evidence that Brodsky read this poem on October 30, 1992 at a solo evening in the hall of the Palo Alto Jewish Center and on February 28, 1994 in front of a group of the Russian diaspora at New York University’s Quincy College. Through this poem, critics saw in Brodsky manifestations of Russian chauvinism and accused him of Anti-Ukrainian sentiment and racism.\n",
      "These views are deeply rooted in Russian culture and history.  Here Brodsky reads the poem in Russian.  He is excited.  Here is a 2011 Keith Gessen New Yorker piece on the poem.  Again, ideas really matter!  And not always for the better.\n",
      "\n",
      "Link: https://marginalrevolution.com/marginalrevolution/2022/04/it-isnt-just-putin.html\n",
      "\n",
      "Result #2\n",
      "Score: 0.6421967148780823\n",
      "Title: How did the IR community get Russia/Ukraine so wrong?\n",
      "Author: Tyler Cowen\n",
      "Date: 2022-05-31 01:29:41\n",
      "Content: \n",
      "In proper Tetlockian fashion, I thought I would look back and consider how well IR experts did in the time leading up to the current war in Ukraine.  In particular, how many of them saw in advance that a war was coming?  And I don’t mean a day or two before the war started, though there were still many commentators in denial at such a late point.\n",
      "Where to start?  One might look at the mid-2021 words of the very smart Daniel Drezner:\n",
      "Wertheim thinks that Ukraine could trigger a great-power war. Meh. In 2021 we have already had one round of Putin brandishing the sword on Ukraine, Biden standing firm, and the situation de-escalating. NATO’s deterrent power seems important to the region. To be honest I would be more worried about flash points in the Pacific Rim.\n",
      "Drezner lived in the Donbas region for some while in the 1990s, so he is hardly a stranger to the relevant issues.\n",
      "More recently Chris Blattman, who is also very able and very smart, wrote in February that Putin probably was not going to attack.  Chris has just published a very well-received major book titled Why We Fight: The Roots of War and the Path to Peace.  Chris does not pretend he is a Ukraine/Russia expert (“I know very little about Ukraine or Russia”), but he does command the literature on war and violent conflict with very real authority.\n",
      "John Mearsheimer is one who foresaw the very real possibility of a war against Ukraine.  I think he is quite wrong about NATO as the provocation, but if you are grading him on predictions alone obviously he wins some serious kudos.\n",
      "See also this Scott Alexander post, though mainly I am looking for somewhat earlier predictions.  By December 2021 a lot of us knew because it was pretty obvious (as for Scott’s puzzlement over me, due to the information flows I am sometimes in, I am not always in a position to make all my predictions fully public).\n",
      "Garry Kasparov is another one who was right about the motives and the willingness of Putin to engage in further violent conquest, and I will return to him later.  Garry knows a lot of IR, but of course he is not an IR scholar in the academic sense of that term.\n",
      "Who were the other voices speaking up with urgency?  IR voices?  Comments are open and I hope you can guide me to the very best commentators who got this one right.\n",
      "When I google “who predicted Russia war against Ukraine” I get Mearsheimer, a retired Russian general, and a blind psychic, but no bevy of IR scholars.\n",
      "You might argue that IR scholarship is not about prediction, just as some macroeconomic theories themselves imply  that recessions cannot be generally predicted.  Still, if IR scholars understand this region reasonably well, many more of them should have been raising red flags, no pun intended.  There is no analog of the efficient markets hypothesis here, so IR work should not be so far from some degree of predictive accuracy.  Not so many scholars (of various kinds) predicted the collapse of the USSR, and I think it is absolutely correct to conclude they did not understand the late 1980s USSR very well.  The same can be said of the earlier Iranian revolution, which also was not widely predicted.\n",
      "As for further instances of getting it wrong, how about Obama’s famous gaffe in the 2012 debate with Mitt Romney, mocking Romney for his fear of Russia and cold war mentality? While Obama was a President and not an IR scholar, this was toward the end of his first-term and his was a “presidency of expertise” like few others have been.  Obama was not irresponsibly “winging it” with his sarcastic take on Russian danger, rather it was a common point of view, especially among Democrats and Democratic political science experts at that time.\n",
      "Or consider this more recently:\n",
      "During Burns’ Senate confirmation hearing in February, he said that, as CIA director, he would have “four crucial and inter-related priorities.” They were: “China, technology, people and partnerships.” Russia was not on that priorities list.\n",
      "Again, he is not an IR scholar but still:\n",
      "To be fair, few people in Washington were bothered by that at the time. The city was far more obsessed, on a bipartisan basis, with China and its ambitions.\n",
      "Overall, on a scale of one to ten, how would we grade the performance of IR scholars on the Russia-Ukraine war?  2?  2.5?\n",
      "What are some possible reasons for those individuals so consistently missing the boat on this issue?  I see a few options:\n",
      "1. The IR community is mostly Democrats, and they were unprepared for the narrative that Putin might invade under Biden but not Trump.  They too much had mental models where the evil of Putin works through Trump.\n",
      "2. Perhaps the IR community doesn’t put enough emphasis on historical continuity and persistence.  Russia has been messing around in Ukraine since at least Catherine the Great during the 18th century.  Since that time, how many of those years has Ukraine been a semi-free, autonomous nation?  Hardly any.\n",
      "3. The IR community is risk-averse, and preserving of its academic reputations, and thus its members are less willing to make bold predictions than say pundits are.  You might even think that is good, all things considered, but it will help explain the missed predictions here.\n",
      "4. Perhaps partly for ideological reasons, it is hard for much of the IR community to internalize how much Putin (correctly?) thinks of the Western Europeans as cowards who will not defend themselves.  The Western European nations are supposed to represent reasonable ways of running a polity, committed to social democracy above all else, and that is what so many academics believe as well.  It might be hard for them to see that Western Europe has been full of folly, including with respect to nuclear energy and also collective defense.\n",
      "5. Amongst academic and many of the scholars outside of academia but on the fringes, thoughts about evil are channeled into domestic directions, such as Trump, guns, “the right wing,” and so on.  Maybe there isn’t enough mental energy to stay sufficiently alert about possible evils elsewhere.  Along related lines, we don’t always have the background in the humanities, and history, to recognize that a certain kind of destructive evil still is possible in today’s world.\n",
      "What else?\n",
      "Listing those five points returns my attention to Kasparov, who has been banging the drum about Putin for quite a few years now and telling us Putin is going to do something like this.  Garry is often considered an “extremist” by academics, or “not one of the club,” but it seems to me he has been entirely right and most of them entirely wrong.  I know Garry, and can report that he really is able to pierce the veil on 1-5 very clearly.  Perhaps that helped him see what was coming.  For instance, Garry is strongly anti-Trump, but he doesn’t let that distract him from other issues of relevance.  He also knows Russian history and the humanities very well, and his understanding of evil is well-calibrated to yield good predictions in situations like this.\n",
      "I’ve also found that many individuals from the Baltic states, with real skin in the game, have had an appropriate level of suspicion about Russia for a long time.  Anecdotally might this broadly Baltic view be more correct than the weaker suspicions held by the IR scholars?\n",
      "Addendum: I’ve heard a few people claim that Putin is just an irrational madman and that he lies outside the sphere of prediction altogether.  Well, the action in Ukraine had very definite and very direct precursors, including other invasions of Ukraine!  It hardly seems like a pure black swan.  Furthermore, a lot of the Russian public supports or at least tolerates the invasion.  “Putin’s propaganda,” some cry, but all that same machinery of censorship and propaganda was not enough to get the Russian public to trust the Sputnik vaccine, which very likely would have saved many of their lives.  So these events are not just about Putin by any means.\n",
      "Also, if you are curious as to where I think things stand now, here is a good and interesting thread on the current state of the war and where it might be headed.\n",
      "\n",
      "Link: https://marginalrevolution.com/marginalrevolution/2022/05/how-did-the-ir-community-get-russia-ukraine-so-wrong.html\n",
      "\n",
      "Result #3\n",
      "Score: 0.5944851636886597\n",
      "Title: Putin as a man of ideas\n",
      "Author: Tyler Cowen\n",
      "Date: 2022-02-25 00:25:52\n",
      "Content: \n",
      "Commentators are drawing lessons from the conflict in Ukraine, but they are missing one key point. Above all, the Russian attack and possible dismemberment of Ukraine reflects the power of ideas.\n",
      "Read the English translation of the Putin speech to justify Russian’s actions in Ukraine. It is striking how much Putin cites history, going as far back as the 17th century, to justify the Russian incursion.\n",
      "One of Putin’s core views is that Ukraine is not a legitimate country in its own right. He is clear about this claim and its import: “So, I will start with the fact that modern Ukraine was entirely created by Russia or, to be more precise, by Bolshevik, Communist Russia.” Putin himself published a July 2021 essay “On the Historical Unity of Russians and Ukrainians,” which goes further back yet and discusses Ancient Rus.\n",
      "Putin’s speech immerses the audience in detail, citing the history of Stalin, Khruschev, the 1917 October Revolution, the Treaty of Brest-Litovsk and what Stalin did in 1922 with respect to the People’s Commissar of Ethnic Affairs. The need for the earlier Soviet Union to offer concessions to the nationalists is portrayed as one reason why Ukraine was allowed to have some of its identity as Ukraine. Here is a typical passage: “Soviet Ukraine is the result of the Bolsheviks’ policy and can be rightfully called “Vladimir Lenin’s Ukraine.” He was its creator and architect. This is fully and comprehensively corroborated by archival documents, including Lenin’s harsh instructions regarding Donbass, which was actually shoved into Ukraine.”\n",
      "By the time you get to the end of Putin’s speech he is still talking about history, and reciting how Ukraine squandered the wonderful inheritance left to them by the Soviet Union. Furthermore, that same Ukraine has become a tool of Western attempts to disrupt Russia.\n",
      "Putin is full of ideas about history. You can argue how much these remarks reflect Putin’s own concern with ideas, or the Russian public’s concern or that of foreign audiences, but it is probably all of those. Furthermore, Putin has embraced a coterie of Russian intellectuals, marketing what is sometimes called Eurasianism, who parrot and develop the notion of Russia as a power-deserving Eurasian civilization.\n",
      "If you think the current version of Ukraine was never a valid nation to begin with, a twisted set of mental contortions might bring you around to Russian expansionism. Russia is just taking back what is rightfully theirs, and by the end of this speech Putin is concluding that: “the possible continuation of the bloodshed will lie entirely on the conscience of Ukraine’s ruling regime.”\n",
      "The obsession with ideas and also with history is a longstanding tradition from earlier leadership. For instance, Soviet dictator Josef Stalin held an extensive library, amounting to about 19,500 books, which he used as a personal, working archive. Stalin was known for his extensive marginalia and for leaving greasy fingerprints on the book pages. Marxist politics, economics and history were prominent in the library, and after Lenin, the most heavily represented authors in the library were Stalin himself, Zinoviev, Bukharin, Marx, Kamenev, Molotov, and Trotsky.\n",
      "So Putin is hardly breaking from the mold. We also know, from previous documentation, that Putin considered the dismantlement of the former Soviet Union as a great tragedy. That too is an idea, and it further reflects the continuity between Putin’s efforts and those of his predecessors.\n",
      "If you write books, whether good or bad ones, and wonder whether your work matters, I suggest the answer lies before you on your TV screen each evening. Russia is a nation of ideas, led by people who are obsessed with ideas. The rest of the world, most of all Europe, will need better ideas in turn.\n",
      "Addendum: Here is Ryan Avent on the power of ideas.\n",
      "\n",
      "Link: https://marginalrevolution.com/marginalrevolution/2022/02/putin-as-a-man-of-ideas.html\n",
      "\n",
      "Result #4\n",
      "Score: 0.5474148988723755\n",
      "Title: Who gains and loses status from the war in Ukraine?\n",
      "Author: Tyler Cowen\n",
      "Date: 2022-03-30 00:53:29\n",
      "Content: \n",
      "Today I will focus on the losers, with another post to follow on those who have gained status.  Here goes:\n",
      "1. An entire generation of German politicians.\n",
      "2. Those who argued that the Russia misinformation machine was swinging major outcomes such as Western elections.  Said misinformation machine just doesn’t seem that good!\n",
      "2b. Those who argued the UFO footage was possibly of a Russian military craft.\n",
      "3. Putin.  And the coterie of Eurasianist intellectuals surrounding him, including Dugin.  And various strands of the American right wing.\n",
      "4. The anti-nuclear power crowd, and much of ESG more generally.  Too much posturing, too few practical solutions and now the whole thing bites.\n",
      "5. China, with India in contention but working somewhat to remedy the damage.\n",
      "6. President Obama, for mocking Romney’s concern over Russia, in one of their debates.\n",
      "7. People who spent most of their time debating The Woke, on either side of the issue.\n",
      "8. Commentators and political scientists who saw the initial conflict as primarily about the eastward expansion of NATO.  Putin’s war aims have shown this to be false (while to be clear Putin does also hate the eastern expansion of NATO).  Desire to obliterate and absorb the nation of Ukraine far predates the history of NATO.\n",
      "9. People who said “the next war will all be about cyber.”  There is probably more cyberconflict going on than we are aware of, but still…\n",
      "Who else?\n",
      "\n",
      "Link: https://marginalrevolution.com/marginalrevolution/2022/03/who-gains-and-loses-status-from-the-war-in-ukraine.html\n",
      "\n",
      "Result #5\n",
      "Score: 0.5136562585830688\n",
      "Title: Anti-Russia sentiment is the new McCarthyism\n",
      "Author: Tyler Cowen\n",
      "Date: 2022-03-01 11:46:15\n",
      "Content: \n",
      "That is the theme of my latest Bloomberg column:\n",
      "The Metropolitan Opera of New York has announced it will no longer stage performers who have supported Russian President Vladimir Putin. Carnegie Hall has done the same, and the Royal Opera House in London is canceling a planned Bolshoi Ballet residency. I expect more institutions to follow suit. Russia’s contemporary art scene, already financially struggling, fears ostracism from museums and collectors, mostly because of Putin’s recent actions.\n",
      "Unwise, says I.  And:\n",
      "It is simply not possible to draw fair or accurate lines of demarcation. What about performers who may have favored Putin in the more benign times of 2003 and now are skeptical, but have family members still living in Russia? Do they have to speak out?\n",
      "Another question: Who exactly counts as Russian? Ethnic Russians? Russian citizens? Former citizens? Ethnic Russians born in Ukraine? If you were an ethnic minority born under the Soviet Union, your former Soviet passport may have explicitly stated that you were not Russian.\n",
      "And what about citizens of Belarus, which according to some reports is planning to send troops into Ukraine? Might they be subject to such strictures as well? How about citizens of China, which abstained from the United Nations vote condemning Russia’s invasion? Which wars are performers from Rwanda or Democratic Republic of the Congo required to repudiate?\n",
      "When exactly is this ban supposed to end?\n",
      "\n",
      "And to close:\n",
      "If anything, the McCarthyism of the 1950s is a bit more explicable than the cancel culture of the present. At least it was trying to address what was then considered a great threat. That said, McCarthyism is not a practice America should want to revive. Witch hunts, by their very nature, do not bring out the best in people, Americans very much included.\n",
      "I guess we will really see who is against cancel culture and who is not.\n",
      "\n",
      "Link: https://marginalrevolution.com/?p=83068\n",
      "\n"
     ]
    }
   ],
   "source": [
    "for i in range(len(results[0])):\n",
    "    print(f'Result #{i+1}')\n",
    "    print(f'Score: {results.values[i]}')\n",
    "    hit = mr_archive.iloc[results.indices[i].item()]\n",
    "    print(f'Title: {hit[\"title\"]}')\n",
    "    print(f'Author: {hit[\"author\"]}')\n",
    "    print(f'Date: {hit[\"publish_date\"]}')\n",
    "    print(f'Content: {hit[\"content\"]}')\n",
    "    print(f'Link: {hit[\"link\"]}')\n",
    "    print()\n",
    "    #result.indices[0]\n",
    "    #mr_archive.iloc[1939]"
   ]
  },
  {
   "cell_type": "code",
   "execution_count": 19,
   "id": "97339136",
   "metadata": {},
   "outputs": [],
   "source": [
    "from transformers import GPT2Tokenizer\n",
    "tokenizer = GPT2Tokenizer.from_pretrained(\"gpt2\")"
   ]
  },
  {
   "cell_type": "code",
   "execution_count": 20,
   "id": "eb38ecd4",
   "metadata": {},
   "outputs": [],
   "source": [
    "def get_gpt2_token_count(text):\n",
    "    return np.sum(tokenizer(text)['attention_mask'])"
   ]
  },
  {
   "cell_type": "code",
   "execution_count": 46,
   "id": "1c0390cf",
   "metadata": {},
   "outputs": [],
   "source": [
    "def encode_hit_for_gpt3(hit):\n",
    "    return f\"\"\"Title: {hit[\"title\"]}\n",
    "    Tags: {hit[\"tags\"]}\n",
    "    Content: {hit[\"content\"]}\n",
    "    \"\"\"\n",
    "def generate_query_for_gpt3(hits, query):\n",
    "    hits_encoded = [encode_hit_for_gpt3(hit) for hit in hits]\n",
    "    token_counts = [get_gpt2_token_count(hit) for hit in hits_encoded]\n",
    "    if np.sum(token_counts) > 3400:\n",
    "        assert False, f\"Probably too many tokens: {np.sum(token_counts)}\"\n",
    "    article_prompt = f\"\"\"A user queried: '{query}'\n",
    "    \n",
    "    Please read the following articles and respond truthfully.\n",
    "    \n",
    "    \"\"\"\n",
    "    for i, hit in enumerate(hits_encoded):\n",
    "        article_prompt += f\"\"\"\n",
    "        Article number {i+1}:\n",
    "        \n",
    "        {hit}\n",
    "        \"\"\"\n",
    "    \n",
    "    article_prompt += f\"\"\"\n",
    "    In detail, what insights do these articles have about the query, '{query}'?\"\"\"\n",
    "    return article_prompt\n",
    "    "
   ]
  },
  {
   "cell_type": "code",
   "execution_count": 47,
   "id": "2c3a05b4",
   "metadata": {},
   "outputs": [],
   "source": [
    "hits = [mr_archive.iloc[ix.item()] for ix in results.indices]\n",
    "gpt3_prompt = generate_query_for_gpt3(hits[:3], query)"
   ]
  },
  {
   "cell_type": "code",
   "execution_count": 48,
   "id": "532e1f8d",
   "metadata": {},
   "outputs": [
    {
     "data": {
      "text/plain": [
       "3482"
      ]
     },
     "execution_count": 48,
     "metadata": {},
     "output_type": "execute_result"
    }
   ],
   "source": [
    "get_gpt2_token_count(gpt3_prompt)"
   ]
  },
  {
   "cell_type": "code",
   "execution_count": 49,
   "id": "ceb7b9a1",
   "metadata": {},
   "outputs": [
    {
     "data": {
      "text/plain": [
       "\"A user queried: 'Russian beliefs about Ukraine'\\n    \\n    Please read the following articles and respond truthfully.\\n    \\n    \\n        Article number 1:\\n        \\n        Title: It isn’t just Putin — Russia vs. Ukraine\\n    Tags: []\\n    Content: \\nFrom Wikipedia, here is a description of the views of Nobel Laureate Joseph Brodsky on Ukraine:\\nAccording to many historians, despite the fact that Brodsky had anti-Soviet views, for which he was eventually forced to leave Soviet Russia and emigrate to the United States, he, with all that, had pronounced Russian-imperial views, which resulted in his rejection of the existence of Ukrainians as a nation separate from Russians. According to Russian literary critic and biographer and friend of Brodsky Lev Losev, Brodsky considered Ukraine “the only cultural space with Great Russia”, and the Polish historian Irena Grudzinska-Gross [pl] in her book “Milosz and Brodsky” (2007) Brodsky firmly believed that Ukraine and has always been “an integral part of Great Russia”. According to Grudzinskaya-Gross, “Brodsky’s Russian patriotism is also evidenced by … the poem “The People” and another poem “On the Independence of Ukraine”, attacking Ukraine from imperial and Great Russian positions.”\\nIn 1985, even before writing the scandalous Ukrainian-phobic poem “On the Independence of Ukraine“, he entered into a debate with the Czech-French poet\\xa0Milan Kundera, in which he showed his Russian-imperial views.\\nThe most famous public manifestation of Brodsky’s Ukrainophobia was the poem “On the Independence of Ukraine”, written, tentatively, in 1992. In this poem, Brodsky sarcastically described Ukraine’s independence in 1991 and scolded Ukrainian independence fighters for abandoning the Russian language. Brodsky did not publish this poem in any of his lifetime collections, and, until his death in 1996, he managed to read only a few times at various Muscovite and Judeophile meetings in America. In particular, there is documentary evidence that Brodsky read this poem on October 30, 1992 at a solo evening in the hall of the Palo Alto Jewish Center and on February 28, 1994 in front of a group of the Russian diaspora at New York University’s Quincy College. Through this poem, critics saw in Brodsky manifestations of Russian chauvinism and accused him of Anti-Ukrainian sentiment and racism.\\nThese views are deeply rooted in Russian culture and history.\\xa0 Here Brodsky reads the poem in Russian.\\xa0 He is excited.\\xa0 Here is a 2011 Keith Gessen New Yorker piece on the poem.\\xa0 Again, ideas really matter!\\xa0 And not always for the better.\\n\\n    \\n        \\n        Article number 2:\\n        \\n        Title: How did the IR community get Russia/Ukraine so wrong?\\n    Tags: []\\n    Content: \\nIn proper Tetlockian fashion, I thought I would look back and consider how well IR experts did in the time leading up to the current war in Ukraine.\\xa0 In particular, how many of them saw in advance that a war was coming?\\xa0 And I don’t mean a day or two before the war started, though there were still many commentators in denial at such a late point.\\nWhere to start?\\xa0 One might look at the mid-2021 words of the very smart Daniel Drezner:\\nWertheim thinks that Ukraine could trigger a great-power war. Meh. In 2021 we have already had one round of Putin brandishing the sword on Ukraine, Biden standing firm, and the situation de-escalating. NATO’s deterrent power seems important to the region. To be honest I would be more worried about flash points in the Pacific Rim.\\nDrezner lived in the Donbas region for some while in the 1990s, so he is hardly a stranger to the relevant issues.\\nMore recently Chris Blattman, who is also very able and very smart, wrote in February that Putin probably was not going to attack.\\xa0 Chris has just published a very well-received major book titled Why We Fight: The Roots of War and the Path to Peace.\\xa0 Chris does not pretend he is a Ukraine/Russia expert (“I know very little about Ukraine or Russia”), but he does command the literature on war and violent conflict with very real authority.\\nJohn Mearsheimer is one who foresaw the very real possibility of a war against Ukraine.\\xa0 I think he is quite wrong about NATO as the provocation, but if you are grading him on predictions alone obviously he wins some serious kudos.\\nSee also this Scott Alexander post, though mainly I am looking for somewhat earlier predictions.\\xa0 By December 2021 a lot of us knew because it was pretty obvious (as for Scott’s puzzlement over me, due to the information flows I am sometimes in, I am not always in a position to make all my predictions fully public).\\nGarry Kasparov is another one who was right about the motives and the willingness of Putin to engage in further violent conquest, and I will return to him later.\\xa0 Garry knows a lot of IR, but of course he is not an IR scholar in the academic sense of that term.\\nWho were the other voices speaking up with urgency?\\xa0 IR voices?\\xa0 Comments are open and I hope you can guide me to the very best commentators who got this one right.\\nWhen I google “who predicted Russia war against Ukraine” I get Mearsheimer, a retired Russian general, and a blind psychic, but no bevy of IR scholars.\\nYou might argue that IR scholarship is not about prediction, just as some macroeconomic theories themselves imply\\xa0 that recessions cannot be generally predicted.\\xa0 Still, if IR scholars understand this region reasonably well, many more of them should have been raising red flags, no pun intended.\\xa0 There is no analog of the efficient markets hypothesis here, so IR work should not be so far from some degree of predictive accuracy.\\xa0 Not so many scholars (of various kinds) predicted the collapse of the USSR, and I think it is absolutely correct to conclude they did not understand the late 1980s USSR very well.\\xa0 The same can be said of the earlier Iranian revolution, which also was not widely predicted.\\nAs for further instances of getting it wrong, how about Obama’s famous gaffe in the 2012 debate with Mitt Romney, mocking Romney for his fear of Russia and cold war mentality? While Obama was a President and not an IR scholar, this was toward the end of his first-term and his was a “presidency of expertise” like few others have been.\\xa0 Obama was not irresponsibly “winging it” with his sarcastic take on Russian danger, rather it was a common point of view, especially among Democrats and Democratic political science experts at that time.\\nOr consider this more recently:\\nDuring Burns’ Senate confirmation hearing in February, he said that, as CIA director, he would have “four crucial and inter-related priorities.” They were: “China, technology, people and partnerships.” Russia was not on\\xa0that priorities list.\\nAgain, he is not an IR scholar but still:\\nTo be fair, few people in Washington were bothered by that at the time. The city was far more obsessed, on a bipartisan basis, with China and its ambitions.\\nOverall, on a scale of one to ten, how would we grade the performance of IR scholars on the Russia-Ukraine war?\\xa0 2?\\xa0 2.5?\\nWhat are some possible reasons for those individuals so consistently missing the boat on this issue?\\xa0 I see a few options:\\n1. The IR community is mostly Democrats, and they were unprepared for the narrative that Putin might invade under Biden but not Trump.\\xa0 They too much had mental models where the evil of Putin works through Trump.\\n2. Perhaps the IR community doesn’t put enough emphasis on historical continuity and persistence.\\xa0 Russia has been messing around in Ukraine since at least Catherine the Great during the 18th century.\\xa0 Since that time, how many of those years has Ukraine been a semi-free, autonomous nation?\\xa0 Hardly any.\\n3. The IR community is risk-averse, and preserving of its academic reputations, and thus its members are less willing to make bold predictions than say pundits are.\\xa0 You might even think that is good, all things considered, but it will help explain the missed predictions here.\\n4. Perhaps partly for ideological reasons, it is hard for much of the IR community to internalize how much Putin (correctly?) thinks of the Western Europeans as cowards who will not defend themselves.\\xa0 The Western European nations are supposed to represent reasonable ways of running a polity, committed to social democracy above all else, and that is what so many academics believe as well.\\xa0 It might be hard for them to see that Western Europe has been full of folly, including with respect to nuclear energy and also collective defense.\\n5. Amongst academic and many of the scholars outside of academia but on the fringes, thoughts about evil are channeled into domestic directions, such as Trump, guns, “the right wing,” and so on.\\xa0 Maybe there isn’t enough mental energy to stay sufficiently alert about possible evils elsewhere.\\xa0 Along related lines, we don’t always have the background in the humanities, and history, to recognize that a certain kind of destructive evil still is possible in today’s world.\\nWhat else?\\nListing those five points returns my attention to Kasparov, who has been banging the drum about Putin for quite a few years now and telling us Putin is going to do something like this.\\xa0 Garry is often considered an “extremist” by academics, or “not one of the club,” but it seems to me he has been entirely right and most of them entirely wrong.\\xa0 I know Garry, and can report that he really is able to pierce the veil on 1-5 very clearly.\\xa0 Perhaps that helped him see what was coming.\\xa0 For instance, Garry is strongly anti-Trump, but he doesn’t let that distract him from other issues of relevance.\\xa0 He also knows Russian history and the humanities very well, and his understanding of evil is well-calibrated to yield good predictions in situations like this.\\nI’ve also found that many individuals from the Baltic states, with real skin in the game, have had an appropriate level of suspicion about Russia for a long time.\\xa0 Anecdotally might this broadly Baltic view be more correct than the weaker suspicions held by the IR scholars?\\nAddendum: I’ve heard a few people claim that Putin is just an irrational madman and that he lies outside the sphere of prediction altogether.\\xa0 Well, the action in Ukraine had very definite and very direct precursors, including other invasions of Ukraine!\\xa0 It hardly seems like a pure black swan.\\xa0 Furthermore, a lot of the Russian public supports or at least tolerates the invasion.\\xa0 “Putin’s propaganda,” some cry, but all that same machinery of censorship and propaganda was not enough to get the Russian public to trust the Sputnik vaccine, which very likely would have saved many of their lives.\\xa0 So these events are not just about Putin by any means.\\nAlso, if you are curious as to where I think things stand now, here is a good and interesting thread on the current state of the war and where it might be headed.\\n\\n    \\n        \\n        Article number 3:\\n        \\n        Title: Putin as a man of ideas\\n    Tags: []\\n    Content: \\nCommentators are drawing lessons from the conflict in Ukraine, but they are missing one key point. Above all, the Russian attack and possible dismemberment of Ukraine reflects the power of ideas.\\nRead the English translation of the Putin speech to justify Russian’s actions in Ukraine. It is striking how much Putin cites history, going as far back as the 17th century, to justify the Russian incursion.\\nOne of Putin’s core views is that Ukraine is not a legitimate country in its own right. He is clear about this claim and its import: “So, I\\xa0will start with the\\xa0fact that modern Ukraine was entirely created by\\xa0Russia or, to\\xa0be more precise, by\\xa0Bolshevik, Communist Russia.” Putin himself published a July 2021 essay “On the Historical Unity of Russians and Ukrainians,” which goes further back yet and discusses Ancient Rus.\\nPutin’s speech immerses the audience in detail, citing the history of Stalin, Khruschev, the 1917 October Revolution, the Treaty of Brest-Litovsk and what Stalin did in 1922 with respect to the People’s Commissar of Ethnic Affairs. The need for the earlier Soviet Union to offer concessions to the nationalists is portrayed as one reason why Ukraine was allowed to have some of its identity as Ukraine. Here is a typical passage: “Soviet Ukraine is the\\xa0result of\\xa0the\\xa0Bolsheviks’ policy and\\xa0can be rightfully called “Vladimir Lenin’s Ukraine.” He was its creator and\\xa0architect. This is fully and\\xa0comprehensively corroborated by\\xa0archival documents, including Lenin’s harsh instructions regarding Donbass, which was actually shoved into Ukraine.”\\nBy the time you get to the end of Putin’s speech he is still talking about history, and reciting how Ukraine squandered the wonderful inheritance left to them by the Soviet Union. Furthermore, that same Ukraine has become a tool of Western attempts to disrupt Russia.\\nPutin is full of ideas about history. You can argue how much these remarks reflect Putin’s own concern with ideas, or the Russian public’s concern or that of foreign audiences, but it is probably all of those. Furthermore, Putin has embraced a coterie of Russian intellectuals, marketing what is sometimes called Eurasianism, who parrot and develop the notion of Russia as a power-deserving Eurasian civilization.\\nIf you think the current version of Ukraine was never a valid nation to begin with, a twisted set of mental contortions might bring you around to Russian expansionism. Russia is just taking back what is rightfully theirs, and by the end of this speech Putin is concluding that: “the\\xa0possible continuation of\\xa0the\\xa0bloodshed will lie entirely on\\xa0the\\xa0conscience of\\xa0Ukraine’s ruling regime.”\\nThe obsession with ideas and also with history is a longstanding tradition from earlier leadership. For instance, Soviet dictator Josef Stalin held an extensive library, amounting to about 19,500 books, which he used as a personal, working archive. Stalin was known for his extensive marginalia and for leaving greasy fingerprints on the book pages. Marxist politics, economics and history were prominent in the library, and after Lenin, the most heavily represented authors in the library were Stalin himself, Zinoviev, Bukharin, Marx, Kamenev, Molotov, and Trotsky.\\nSo Putin is hardly breaking from the mold. We also know, from previous documentation, that Putin considered the dismantlement of the former Soviet Union as a great tragedy. That too is an idea, and it further reflects the continuity between Putin’s efforts and those of his predecessors.\\nIf you write books, whether good or bad ones, and wonder whether your work matters, I suggest the answer lies before you on your TV screen each evening. Russia is a nation of ideas, led by people who are obsessed with ideas. The rest of the world, most of all Europe, will need better ideas in turn.\\nAddendum: Here is Ryan Avent on the power of ideas.\\n\\n    \\n        \\n    In detail, what insights do these articles have about the query, 'Russian beliefs about Ukraine'?\""
      ]
     },
     "execution_count": 49,
     "metadata": {},
     "output_type": "execute_result"
    }
   ],
   "source": [
    "gpt3_prompt"
   ]
  },
  {
   "cell_type": "code",
   "execution_count": 50,
   "id": "1ac1031e",
   "metadata": {},
   "outputs": [],
   "source": [
    "import openai\n",
    "openai.api_key = os.getenv(\"OPENAI_API_KEY\")\n"
   ]
  },
  {
   "cell_type": "code",
   "execution_count": 54,
   "id": "31f890bf",
   "metadata": {},
   "outputs": [],
   "source": [
    "response = openai.Completion.create(model=\"text-davinci-002\", prompt=gpt3_prompt, temperature=.5, max_tokens=500)\n"
   ]
  },
  {
   "cell_type": "code",
   "execution_count": 55,
   "id": "00a798e4",
   "metadata": {},
   "outputs": [
    {
     "data": {
      "text/plain": [
       "<OpenAIObject text_completion id=cmpl-5w34oXygSnqEcr6500604dnrqEKZF at 0x2b2e723b0> JSON: {\n",
       "  \"choices\": [\n",
       "    {\n",
       "      \"finish_reason\": \"stop\",\n",
       "      \"index\": 0,\n",
       "      \"logprobs\": null,\n",
       "      \"text\": \"\\n    \\n    \\n    Article 1:\\n    \\n    The article discusses the views of Nobel Laureate Joseph Brodsky on Ukraine. Brodsky believed that Ukraine was not a separate nation from Russia, and that the independence of Ukraine was a mistake. He also thought that Ukraine should be part of Russia.\\n    \\n    Article 2:\\n    \\n    The article discusses how the IR community got Russia/Ukraine so wrong. It argues that the community did not foresee the war in Ukraine because they did not understand the historical continuity and persistence of Russian involvement in Ukraine.\\n    \\n    Article 3:\\n    \\n    The article discusses how Putin's beliefs about history justify Russian expansionism. It argues that Putin's ideas about history are a continuation of a longstanding tradition in Russian leadership.\"\n",
       "    }\n",
       "  ],\n",
       "  \"created\": 1664516534,\n",
       "  \"id\": \"cmpl-5w34oXygSnqEcr6500604dnrqEKZF\",\n",
       "  \"model\": \"text-davinci-002\",\n",
       "  \"object\": \"text_completion\",\n",
       "  \"usage\": {\n",
       "    \"completion_tokens\": 161,\n",
       "    \"prompt_tokens\": 3370,\n",
       "    \"total_tokens\": 3531\n",
       "  }\n",
       "}"
      ]
     },
     "execution_count": 55,
     "metadata": {},
     "output_type": "execute_result"
    }
   ],
   "source": [
    "response"
   ]
  },
  {
   "cell_type": "code",
   "execution_count": 56,
   "id": "0af98c62",
   "metadata": {},
   "outputs": [
    {
     "data": {
      "text/plain": [
       "\"\\n    \\n    \\n    Article 1:\\n    \\n    The article discusses the views of Nobel Laureate Joseph Brodsky on Ukraine. Brodsky believed that Ukraine was not a separate nation from Russia, and that the independence of Ukraine was a mistake. He also thought that Ukraine should be part of Russia.\\n    \\n    Article 2:\\n    \\n    The article discusses how the IR community got Russia/Ukraine so wrong. It argues that the community did not foresee the war in Ukraine because they did not understand the historical continuity and persistence of Russian involvement in Ukraine.\\n    \\n    Article 3:\\n    \\n    The article discusses how Putin's beliefs about history justify Russian expansionism. It argues that Putin's ideas about history are a continuation of a longstanding tradition in Russian leadership.\""
      ]
     },
     "execution_count": 56,
     "metadata": {},
     "output_type": "execute_result"
    }
   ],
   "source": [
    "response['choices'][0]['text']"
   ]
  },
  {
   "cell_type": "code",
   "execution_count": null,
   "id": "8d3c78bc",
   "metadata": {},
   "outputs": [],
   "source": []
  }
 ],
 "metadata": {
  "kernelspec": {
   "display_name": "Python 3 (ipykernel)",
   "language": "python",
   "name": "python3"
  },
  "language_info": {
   "codemirror_mode": {
    "name": "ipython",
    "version": 3
   },
   "file_extension": ".py",
   "mimetype": "text/x-python",
   "name": "python",
   "nbconvert_exporter": "python",
   "pygments_lexer": "ipython3",
   "version": "3.9.14"
  }
 },
 "nbformat": 4,
 "nbformat_minor": 5
}
